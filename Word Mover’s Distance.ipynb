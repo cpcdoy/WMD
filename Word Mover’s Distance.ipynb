{
 "cells": [
  {
   "cell_type": "markdown",
   "metadata": {},
   "source": [
    "# Word Mover’s Distance"
   ]
  },
  {
   "cell_type": "markdown",
   "metadata": {},
   "source": [
    "This notebook implements the **Word Mover's Distance (WMD)** as described in **[From Word Embeddings To Document Distances](http://proceedings.mlr.press/v37/kusnerb15.pdf)** by Matt Kusner, Yu Sun, Nicholas Kolkin and Kilian Weinberger.\n",
    "\n",
    "## WMD\n",
    "### Definition\n",
    "\n",
    "The  **WMD**  measures the dissimilarity between two text documents as the minimum amount of distance that the  embedded  words  of  one  document  need  to “travel” to reach the embedded words of another document.\n",
    "\n",
    " ![](https://raw.githubusercontent.com/mkusner/wmd/master/fig1.png)\n",
    "Image credit: [Matt J. Kusner Github repo](https://github.com/mkusner/wmd)\n",
    "\n",
    "The problem is formulated as a transportation problem that is the minimal cumulative cost of moving $d$ to $d'$ given constraints. The solution is provided by the following linear program: \n",
    "\n",
    "$$\\min_{T \\geq 0} \\sum_{i,j=1}^{n} T_{ij}c(i,j)$$\n",
    "\n",
    "subject to $$  \\sum_{j=1}^{n} T_{ij} = d_i,  \\forall i \\in \\{1, ..., n\\} $$\n",
    "$$  \\sum_{i=1}^{n} T_{ij} = d'_i,  \\forall j \\in \\{1, ..., n\\} $$\n",
    "\n",
    "### Problem \n",
    "\n",
    "This solution is exact but requires heavy computations and usually uses solvers that solve a **special case** of the **Earth Mover's Distance**.\n",
    "\n",
    "As such, this notebook will go through several **faster approximate ways of computing WMD**."
   ]
  },
  {
   "cell_type": "markdown",
   "metadata": {},
   "source": [
    "# Implementation"
   ]
  },
  {
   "cell_type": "markdown",
   "metadata": {},
   "source": [
    "## Importing libraries"
   ]
  },
  {
   "cell_type": "markdown",
   "metadata": {},
   "source": [
    "We'll be using a few libraries to help with the implemention:\n",
    "\n",
    "* **Gensim**: Preprocessing, word2vec, nBOW and the wmdistance function\n",
    "* **Numpy**:  General numerical computing\n",
    "* **Matplotlib**: Display curves and perf statistics\n",
    "* **Time/Timeit**: Timing and benchmarks"
   ]
  },
  {
   "cell_type": "code",
   "execution_count": 1,
   "metadata": {},
   "outputs": [
    {
     "name": "stderr",
     "output_type": "stream",
     "text": [
      "C:\\Users\\cpcdo\\Anaconda3\\lib\\site-packages\\gensim\\utils.py:1197: UserWarning: detected Windows; aliasing chunkize to chunkize_serial\n",
      "  warnings.warn(\"detected Windows; aliasing chunkize to chunkize_serial\")\n"
     ]
    }
   ],
   "source": [
    "import gensim.parsing.preprocessing as genproc\n",
    "\n",
    "from gensim.utils import deaccent\n",
    "from gensim.models import KeyedVectors\n",
    "from gensim.models.normmodel import NormModel\n",
    "from gensim import corpora\n",
    "\n",
    "import numpy as np\n",
    "\n",
    "import time\n",
    "import timeit"
   ]
  },
  {
   "cell_type": "markdown",
   "metadata": {},
   "source": [
    "## Sentences"
   ]
  },
  {
   "cell_type": "markdown",
   "metadata": {},
   "source": [
    "Let's load a few documents containing sentences that we'll use throughout this notebook."
   ]
  },
  {
   "cell_type": "code",
   "execution_count": 2,
   "metadata": {
    "scrolled": true
   },
   "outputs": [],
   "source": [
    "f_strs = open(\"data/test_sentences.txt\", \"r\", encoding='utf-8')\n",
    "strs = [str for str in f_strs.readlines()]"
   ]
  },
  {
   "cell_type": "markdown",
   "metadata": {},
   "source": [
    "## Preprocessing"
   ]
  },
  {
   "cell_type": "markdown",
   "metadata": {},
   "source": [
    "This section preprocesses the text so that it can be used for our computations"
   ]
  },
  {
   "cell_type": "markdown",
   "metadata": {},
   "source": [
    "### Stopwords, punctuation, spaces removal"
   ]
  },
  {
   "cell_type": "markdown",
   "metadata": {},
   "source": [
    "Stopwords are words which are filtered out which do not really contribute to the meaning of a sentence. Stopwords examples are:\n",
    "\n",
    "* “the”\n",
    "* “a”\n",
    "* “an”\n",
    "* “in”\n",
    "* [and many more (here's an example list)](https://gist.github.com/sebleier/554280)\n",
    "\n",
    "We also remove every other unnecessary things from the text like whitespaces, punctuation, short words, etc. "
   ]
  },
  {
   "cell_type": "code",
   "execution_count": 3,
   "metadata": {},
   "outputs": [],
   "source": [
    "proc = [genproc.remove_stopwords, \n",
    "    genproc.strip_tags,\n",
    "    genproc.strip_punctuation,\n",
    "    genproc.strip_multiple_whitespaces,\n",
    "    genproc.strip_numeric,\n",
    "    genproc.remove_stopwords,\n",
    "    genproc.strip_short,\n",
    "    deaccent]\n",
    "    #genproc.stem_text]\n",
    "\n",
    "def apply_lambdas(x, lambdas):\n",
    "    return [p(x) for p in lambdas][-1]"
   ]
  },
  {
   "cell_type": "code",
   "execution_count": 4,
   "metadata": {},
   "outputs": [],
   "source": [
    "strs_proc = [genproc.preprocess_string(str, proc) for str in strs]"
   ]
  },
  {
   "cell_type": "markdown",
   "metadata": {},
   "source": [
    "## nBOW"
   ]
  },
  {
   "cell_type": "markdown",
   "metadata": {},
   "source": [
    "Normalized Bag-of-word (nBOW) vectors, $d \\in \\mathbb{R}^n$ are defined as follows:\n",
    "\n",
    "$$d_i = \\frac{c_i}{\\sum_{j=1}^{n} c_j}$$"
   ]
  },
  {
   "cell_type": "markdown",
   "metadata": {},
   "source": [
    "Here we get $c_i$ for each word which means that we only get the BOWs:"
   ]
  },
  {
   "cell_type": "code",
   "execution_count": 5,
   "metadata": {},
   "outputs": [],
   "source": [
    "dict = corpora.Dictionary()\n",
    "bows = [dict.doc2bow(str, allow_update=True) for str in strs_proc]"
   ]
  },
  {
   "cell_type": "markdown",
   "metadata": {},
   "source": [
    "Finally we normalize the BOWs:"
   ]
  },
  {
   "cell_type": "code",
   "execution_count": 6,
   "metadata": {},
   "outputs": [],
   "source": [
    "# Transform nBOWs to non-tuples and flatten\n",
    "def get_from_tuples(tuples, i, bows=bows):\n",
    "    l = [[t[1]] * b[1] for (b, t) in zip(bows[i], tuples)]\n",
    "    return [x for sub in l for x in sub]"
   ]
  },
  {
   "cell_type": "code",
   "execution_count": 7,
   "metadata": {},
   "outputs": [],
   "source": [
    "# Use L1 norm to match the paper\n",
    "# L2 norm was default\n",
    "norm_model = NormModel(norm='l1')\n",
    "nbows = [get_from_tuples(norm_model.normalize(bows[i]), i) for i in range(len(strs_proc))]"
   ]
  },
  {
   "cell_type": "markdown",
   "metadata": {},
   "source": [
    "## word2vec"
   ]
  },
  {
   "cell_type": "markdown",
   "metadata": {},
   "source": [
    "We load word2vec weights pretrained on Google News"
   ]
  },
  {
   "cell_type": "code",
   "execution_count": 8,
   "metadata": {},
   "outputs": [],
   "source": [
    "model = KeyedVectors.load_word2vec_format('data/GoogleNews-vectors-negative300.bin.gz', binary=True)"
   ]
  },
  {
   "cell_type": "markdown",
   "metadata": {},
   "source": [
    "Precompute L2-normalized vectors"
   ]
  },
  {
   "cell_type": "code",
   "execution_count": 9,
   "metadata": {},
   "outputs": [],
   "source": [
    "model.init_sims(replace=True)"
   ]
  },
  {
   "cell_type": "markdown",
   "metadata": {},
   "source": [
    "### Distances cache"
   ]
  },
  {
   "cell_type": "markdown",
   "metadata": {},
   "source": [
    "Taking advantage of the symmetry of distances can be a good way to speed up distance computation.\n",
    "\n",
    "$$c(i, j) = c(j, i)$$\n",
    "\n",
    "Here we create a distance cache using a dict that support the following operation:\n",
    "\n",
    "$$dict[(i, j)] = dict[(j, i)]$$\n",
    "\n",
    "This enables us to actually only compute the upper or lower triangular matrix of distances. In practice this is going to be a mix of both lower and upper but the total number of distances computed will be equal to the number of element of a triangular part of the matrix.\n"
   ]
  },
  {
   "cell_type": "markdown",
   "metadata": {},
   "source": [
    "\\begin{bmatrix}\n",
    "  0 & \\cdots & \\cdots & \\cdots & dist(1, n) \\\\\n",
    "  & dist(2, 1) & \\cdots & \\cdots & dist(2, n) \\\\\n",
    "  & \\ddots & \\cdots & \\cdots & \\vdots \\\\\n",
    "  & & \\ddots & \\cdots & \\vdots \\\\\n",
    "  & & & \\ddots & \\vdots \\\\\n",
    "  & & & & 0\n",
    " \\end{bmatrix}"
   ]
  },
  {
   "cell_type": "code",
   "execution_count": 10,
   "metadata": {},
   "outputs": [],
   "source": [
    "class tri_dict():\n",
    "    def __init__(self):\n",
    "        self.dict = {}\n",
    "    def __len__(self):\n",
    "        return self.dict.__len__(self) / 2\n",
    "\n",
    "    def __setitem__(self, key, value):\n",
    "        self.dict.__setitem__(key, value)\n",
    "        \n",
    "    # Tries retrieving either (i, j) or (j, i)\n",
    "    def __getitem__(self, key):\n",
    "        g = self.dict.get(key)\n",
    "        if g == None:\n",
    "            g = self.dict.get((key[1], key[0]))\n",
    "        return g\n",
    "\n",
    "dists = tri_dict()"
   ]
  },
  {
   "cell_type": "markdown",
   "metadata": {},
   "source": [
    "Here's another version of this dict that actually uses the full matrix. We'll see later how this affects performance"
   ]
  },
  {
   "cell_type": "code",
   "execution_count": 12,
   "metadata": {},
   "outputs": [],
   "source": [
    "class tri_dict_full_mem():\n",
    "    def __init__(self):\n",
    "        self.dict = {}\n",
    "    def __len__(self):\n",
    "        return self.dict.__len__(self) / 2\n",
    "\n",
    "    # Insert (i,j) and (j, i) in one go\n",
    "    def __setitem__(self, key, value):\n",
    "        self.dict.__setitem__((key[0], key[1]), value)\n",
    "        self.dict.__setitem__((key[1], key[0]), value)\n",
    "        \n",
    "    def __getitem__(self, key):\n",
    "        return self.dict.get(key)\n",
    "\n",
    "dists = tri_dict_full_mem()"
   ]
  },
  {
   "cell_type": "markdown",
   "metadata": {},
   "source": [
    "*Note: You can use one or the other*"
   ]
  },
  {
   "cell_type": "markdown",
   "metadata": {},
   "source": [
    "## Word Centroid Distance (WCD)"
   ]
  },
  {
   "cell_type": "markdown",
   "metadata": {},
   "source": [
    "According to the paper, the WCD between documents $d$ and $d'$ must lower bound their WMD. As such, WCD is defined as follows:\n",
    "\n",
    "$$WCD(d, d') = \\left\\lVert Xd - Xd' \\right\\rVert_2$$"
   ]
  },
  {
   "cell_type": "markdown",
   "metadata": {},
   "source": [
    "In the code, a centroid is computed as follows: \n",
    "$$X^T.d$$"
   ]
  },
  {
   "cell_type": "code",
   "execution_count": 13,
   "metadata": {},
   "outputs": [],
   "source": [
    "def get_centroid(doc):\n",
    "    X = np.array([model[str] for str in strs_proc[doc]])\n",
    "    d = np.array(nbows[doc])\n",
    "    \n",
    "    # X^T.d\n",
    "    return X.T.dot(d)"
   ]
  },
  {
   "cell_type": "markdown",
   "metadata": {},
   "source": [
    "Here we compute the Euclidean distance as follows:\n",
    "$$ c(q, p) = c(p, q) = \\sqrt{(q_1-p_1)^2 + (q_2-p_2)^2 + \\cdots + (q_n-p_n)^2}  = \\sqrt{\\sum_{i=1}^n (q_i-p_i)^2}.$$"
   ]
  },
  {
   "cell_type": "code",
   "execution_count": 122,
   "metadata": {},
   "outputs": [],
   "source": [
    "# Euclidean distance\n",
    "def dist(x, y, i, j):\n",
    "    return np.sqrt(np.sum((x - y)**2))"
   ]
  },
  {
   "cell_type": "markdown",
   "metadata": {},
   "source": [
    "Here we do the same but we only compute the distance when it hasen't been cached yet"
   ]
  },
  {
   "cell_type": "code",
   "execution_count": 14,
   "metadata": {},
   "outputs": [],
   "source": [
    "# Euclidean distance with dict cache\n",
    "def dist(x, y, i, j):\n",
    "    d = dists[(i, j)]\n",
    "    # Only compute if not cached\n",
    "    if d == None:\n",
    "        d = np.sqrt(np.sum((x - y)**2))\n",
    "        # Cache it for later\n",
    "        dists[(i, j)] = d\n",
    "    return d"
   ]
  },
  {
   "cell_type": "markdown",
   "metadata": {},
   "source": [
    "*Note: You can use one or the other distance function depending on if you want caching or not*"
   ]
  },
  {
   "cell_type": "markdown",
   "metadata": {},
   "source": [
    "The actual WCD in our code is:\n",
    "$$WCD(doc1, doc2) = \\left\\lVert c1 - c2 \\right\\rVert_2$$"
   ]
  },
  {
   "cell_type": "markdown",
   "metadata": {},
   "source": [
    "Here's pseudo-code for the WCD implementation:\n",
    "\n",
    "```\n",
    "        function wcd:\n",
    "            doc1 <- document 1 id\n",
    "            doc2 <- document 2 id\n",
    "        begin:\n",
    "            c1 <- compute centroid of doc1\n",
    "            c2 <- compute centroid of doc2\n",
    "            \n",
    "            return Euclidean distance between c1 and c2\n",
    "        end\n",
    "```\n",
    "\n",
    "**Complexity: $O(dp)$**, where $d$ is the embedding size and $p$ the number of unique words in the documents.\n"
   ]
  },
  {
   "cell_type": "code",
   "execution_count": 15,
   "metadata": {},
   "outputs": [],
   "source": [
    "def wcd(doc1, doc2):\n",
    "    # Compute centroids\n",
    "    c1 = get_centroid(doc1)\n",
    "    c2 = get_centroid(doc2)\n",
    "    # Return distance between centroids\n",
    "    return dist(c1, c2, doc1, doc2)"
   ]
  },
  {
   "cell_type": "markdown",
   "metadata": {},
   "source": [
    "### Usage"
   ]
  },
  {
   "cell_type": "code",
   "execution_count": 124,
   "metadata": {},
   "outputs": [
    {
     "data": {
      "text/plain": [
       "[0.0,\n",
       " 0.4889688754349564,\n",
       " 0.6282021317744428,\n",
       " 0.607863411337698,\n",
       " 0.6216390672798184,\n",
       " 0.5685506211966792,\n",
       " 0.634117029062517,\n",
       " 0.6086501006435308,\n",
       " 2.294856610359048,\n",
       " 0.8530214259104537,\n",
       " 0.8912037390990674,\n",
       " 0.8495958119706942,\n",
       " 0.740203290171906,\n",
       " 0.6066595381454836,\n",
       " 0.765175278237766,\n",
       " 0.6506489116202538,\n",
       " 0.6153644479910629,\n",
       " 0.7279378379077874,\n",
       " 0.6405168303900033,\n",
       " 0.6178455141858197,\n",
       " 0.5810393113521084,\n",
       " 0.679971016715287]"
      ]
     },
     "execution_count": 124,
     "metadata": {},
     "output_type": "execute_result"
    }
   ],
   "source": [
    "[wcd(0, i) for i in range(len(nbows))]"
   ]
  },
  {
   "cell_type": "markdown",
   "metadata": {},
   "source": [
    "## Relaxed WMD"
   ]
  },
  {
   "cell_type": "markdown",
   "metadata": {},
   "source": [
    "Relaxed WMD actually, like its name implies, relaxes the original *WMD* optimization problem and it achieves this by removing one of the two constrainsts, each at a time, and optimizing.\n",
    "\n",
    "This can be written the first time as:\n",
    "\n",
    "$$\\min_{T \\geq 0} \\sum_{i,j=1}^{n} T_{ij}c(i,j)$$\n",
    "    subject to $$  \\sum_{j=1}^{n} T_{ij} = d_i,  \\forall i \\in \\{1, ..., n\\} $$\n",
    "\n",
    "And then we can write it again as:\n",
    "\n",
    "$$\\min_{T \\geq 0} \\sum_{i,j=1}^{n} T_{ij}c(i,j)$$\n",
    "    subject to $$  \\sum_{i=1}^{n} T_{ij} = d'_i,  \\forall j \\in \\{1, ..., n\\} $$\n",
    "\n",
    "This can be achieved by actually only computing a problem and then reversing this same problem in the other direction."
   ]
  },
  {
   "cell_type": "markdown",
   "metadata": {},
   "source": [
    "During the implementation of *RWMD*, I came up with 3 different implementations as I was trying to optimize for performances while keeping the same output."
   ]
  },
  {
   "cell_type": "markdown",
   "metadata": {},
   "source": [
    "1) The first implementation computes distances on the fly and then takes the minimum out of these for the current document. The problem is reversed just after.\n",
    "\n",
    "This implementation is the slowest."
   ]
  },
  {
   "cell_type": "code",
   "execution_count": 16,
   "metadata": {},
   "outputs": [],
   "source": [
    "def rwmd_implem_1(doc1, doc2):\n",
    "    X = model\n",
    "    idx = 0\n",
    "    rwmd1 = 0\n",
    "    # Without second optimization constraint\n",
    "    for j in strs_proc[doc1]:\n",
    "        c_ij = [dist(X[j], X[i], i, j) for i in strs_proc[doc2]]\n",
    "        rwmd1 += min(c_ij) * nbows[doc1][idx]\n",
    "        idx += 1\n",
    "    idx = 0\n",
    "    rwmd2 = 0\n",
    "    # Without first optimization constraint\n",
    "    for j in strs_proc[doc2]:\n",
    "        c_ij = [dist(X[j], X[i], i, j) for i in strs_proc[doc1]]\n",
    "        rwmd2 += min(c_ij) * nbows[doc2][idx]\n",
    "        idx += 1\n",
    "        \n",
    "    return max(rwmd1, rwmd2)"
   ]
  },
  {
   "cell_type": "markdown",
   "metadata": {},
   "source": [
    "2) This very classic loop-based implementation is surprisingly faster than the first implementation.\n",
    "\n",
    "This is because we precompute distances first and then we don't need to do any lookup later on."
   ]
  },
  {
   "cell_type": "code",
   "execution_count": 17,
   "metadata": {},
   "outputs": [],
   "source": [
    "def rwmd_implem_2(doc1, doc2):\n",
    "    doc1_len = len(nbows[doc1])\n",
    "    doc2_len = len(nbows[doc2])\n",
    "    doc1_dists = np.ones(doc1_len) * float('inf')\n",
    "    doc2_dists = np.ones(doc2_len) * float('inf')\n",
    "    \n",
    "    dists = np.array([[dist(model[i], model[j], i, j) for j in strs_proc[doc2]] for i in strs_proc[doc1]])\n",
    "    \n",
    "    for word1_index in range(doc1_len):\n",
    "        word1 = strs_proc[doc1][word1_index]\n",
    "        for word2_index in range(doc2_len):\n",
    "            word2 = strs_proc[doc2][word2_index]\n",
    "            wdist = dists[word1_index][word2_index] \n",
    "            \n",
    "            if wdist < doc1_dists[word1_index]:\n",
    "                doc1_dists[word1_index] = wdist\n",
    "            if wdist < doc2_dists[word2_index]:\n",
    "                doc2_dists[word2_index] = wdist\n",
    "    \n",
    "    rwmd1 = np.sum(doc1_dists * nbows[doc1])\n",
    "    rwmd2 = np.sum(doc2_dists * nbows[doc2])\n",
    "    rwmd = max(rwmd1, rwmd2)\n",
    "    return rwmd"
   ]
  },
  {
   "cell_type": "markdown",
   "metadata": {},
   "source": [
    "3) The third implementation is the fastest as it precomputes distances and uses vectorization and *Numpy* as much as possible."
   ]
  },
  {
   "cell_type": "markdown",
   "metadata": {},
   "source": [
    "We'll be giving the pseudocode for this implementation only as it is the fastest.\n",
    "\n",
    "Here's pseudo-code for the RWMD implementation:\n",
    "\n",
    "```\n",
    "        function rwmd:\n",
    "            doc1 <- document 1 id\n",
    "            doc2 <- document 2 id\n",
    "        begin:\n",
    "            dists <- Precompute all distances\n",
    "        \n",
    "            // This is equivalent to computing j∗ = argmin(i, j) for each i\n",
    "            c_ij <- brute force nearest neighnor search around i among all j\n",
    "            rwmd1 <- dot product between c_ij and nBOW of document 1\n",
    "            \n",
    "            // Now, we do exactly the same thing but reversed\n",
    "            \n",
    "            // This is equivalent to computing i∗ = argmin(i, j) for each \n",
    "            c_ij <- brute force nearest neighnor search around j among all i\n",
    "            rwmd1 <- dot product between c_ij and nBOW of document 2\n",
    "            \n",
    "            return the tightest bound by computing max(rwmd1, rwmd2)\n",
    "        end\n",
    "```\n",
    "\n",
    "**Complexity: $O(p^2)$**, where $p$ is the number of unique words in the documents.\n"
   ]
  },
  {
   "cell_type": "code",
   "execution_count": 18,
   "metadata": {},
   "outputs": [],
   "source": [
    "def rwmd(doc1, doc2):\n",
    "    doc1_len = len(nbows[doc1])\n",
    "    doc2_len = len(nbows[doc2])\n",
    "    \n",
    "    # Precompute all distances\n",
    "    dists = np.array([[dist(model[i], model[j], i, j) for j in strs_proc[doc2]] for i in strs_proc[doc1]])\n",
    "    \n",
    "    # Without second optimization constraint\n",
    "    c_ij = np.array([np.min([dists[i][j] for j in range(doc2_len)]) for i in range(doc1_len)])\n",
    "    rwmd1 = np.dot(c_ij, nbows[doc1])\n",
    "    \n",
    "    # Without first optimization constraint\n",
    "    c_ij = np.array([np.min([dists[j][i] for j in range(doc1_len)]) for i in range(doc2_len)])\n",
    "    rwmd2 = np.dot(c_ij, nbows[doc2])\n",
    "    \n",
    "    return max(rwmd1, rwmd2)"
   ]
  },
  {
   "cell_type": "markdown",
   "metadata": {},
   "source": [
    "### Usage"
   ]
  },
  {
   "cell_type": "code",
   "execution_count": 126,
   "metadata": {},
   "outputs": [
    {
     "data": {
      "text/plain": [
       "[0.0,\n",
       " 1.0618066430091857,\n",
       " 1.3466628619602747,\n",
       " 1.3384341543371028,\n",
       " 1.5745622590184212,\n",
       " 1.6217780970945592,\n",
       " 2.0408487006237634,\n",
       " 2.1576749499963253,\n",
       " 3.3718802332878113,\n",
       " 1.3447080850601196,\n",
       " 1.3566317558288574,\n",
       " 1.3516850173473358,\n",
       " 1.3274114429950714,\n",
       " 1.3285035490989685,\n",
       " 1.3340416848659515,\n",
       " 1.336386799812317,\n",
       " 1.7221189198955411,\n",
       " 1.341009497642517,\n",
       " 1.2823150591416792,\n",
       " 1.7546531072882716,\n",
       " 1.529034259142699,\n",
       " 2.212308130985082]"
      ]
     },
     "execution_count": 126,
     "metadata": {},
     "output_type": "execute_result"
    }
   ],
   "source": [
    "[rwmd_implem_1(0, j) for j in range(len(nbows))]"
   ]
  },
  {
   "cell_type": "code",
   "execution_count": 30,
   "metadata": {},
   "outputs": [
    {
     "data": {
      "text/plain": [
       "[0.0,\n",
       " 1.0618066430091857,\n",
       " 1.3466628619602747,\n",
       " 1.3384341543371028,\n",
       " 1.5745622590184212,\n",
       " 1.621778097094559,\n",
       " 2.040848700623763,\n",
       " 2.1576749499963253,\n",
       " 3.3718802332878113,\n",
       " 1.3447080850601196,\n",
       " 1.3566317558288574,\n",
       " 1.3516850173473358,\n",
       " 1.3274114429950714,\n",
       " 1.3285035490989683,\n",
       " 1.3340416848659515,\n",
       " 1.336386799812317,\n",
       " 1.7221189198955411,\n",
       " 1.341009497642517,\n",
       " 1.2823150591416792,\n",
       " 1.7546531072882718,\n",
       " 1.5290342591426989,\n",
       " 2.2123081309850825]"
      ]
     },
     "execution_count": 30,
     "metadata": {},
     "output_type": "execute_result"
    }
   ],
   "source": [
    "[rwmd_implem_2(0, j) for j in range(len(nbows))]"
   ]
  },
  {
   "cell_type": "code",
   "execution_count": 31,
   "metadata": {},
   "outputs": [
    {
     "data": {
      "text/plain": [
       "[0.0,\n",
       " 1.0618066430091857,\n",
       " 1.3466628619602747,\n",
       " 1.3384341543371028,\n",
       " 1.5745622590184212,\n",
       " 1.621778097094559,\n",
       " 2.040848700623763,\n",
       " 2.1576749499963253,\n",
       " 3.3718802332878113,\n",
       " 1.3447080850601196,\n",
       " 1.3566317558288574,\n",
       " 1.3516850173473358,\n",
       " 1.3274114429950714,\n",
       " 1.3285035490989685,\n",
       " 1.3340416848659515,\n",
       " 1.336386799812317,\n",
       " 1.7221189198955411,\n",
       " 1.341009497642517,\n",
       " 1.2823150591416792,\n",
       " 1.7546531072882718,\n",
       " 1.5290342591426989,\n",
       " 2.2123081309850825]"
      ]
     },
     "execution_count": 31,
     "metadata": {},
     "output_type": "execute_result"
    }
   ],
   "source": [
    "[rwmd(0, j) for j in range(len(nbows))]"
   ]
  },
  {
   "cell_type": "code",
   "execution_count": 32,
   "metadata": {},
   "outputs": [
    {
     "data": {
      "text/plain": [
       "[0.0,\n",
       " 0.4889688754349564,\n",
       " 0.6282021317744428,\n",
       " 0.607863411337698,\n",
       " 0.6216390672798184,\n",
       " 0.5685506211966792,\n",
       " 0.634117029062517,\n",
       " 0.6086501006435308,\n",
       " 2.294856610359048,\n",
       " 0.8530214259104537,\n",
       " 0.8912037390990674,\n",
       " 0.8495958119706942,\n",
       " 0.740203290171906,\n",
       " 0.6066595381454836,\n",
       " 0.765175278237766,\n",
       " 0.6506489116202538,\n",
       " 0.6153644479910629,\n",
       " 0.7279378379077874,\n",
       " 0.6405168303900033,\n",
       " 0.6178455141858197,\n",
       " 0.5810393113521084,\n",
       " 0.679971016715287]"
      ]
     },
     "execution_count": 32,
     "metadata": {},
     "output_type": "execute_result"
    }
   ],
   "source": [
    "[wcd(0, j) for j in range(len(nbows))]"
   ]
  },
  {
   "cell_type": "code",
   "execution_count": 33,
   "metadata": {
    "scrolled": false
   },
   "outputs": [
    {
     "data": {
      "text/plain": [
       "[0.0,\n",
       " 1.064594336759162,\n",
       " 1.3496657413730007,\n",
       " 1.3449191373622853,\n",
       " 1.3251857828273477,\n",
       " 1.3280674600887181,\n",
       " 1.3242448895635275,\n",
       " 1.3229613969767622,\n",
       " 1.3779413764327169,\n",
       " 1.3515102978463174,\n",
       " 1.361813734663129,\n",
       " 1.356589825306803,\n",
       " 1.3329633577233069,\n",
       " 1.3359622712908688,\n",
       " 1.338013213535734,\n",
       " 1.338700849033177,\n",
       " 1.3339357248328365,\n",
       " 1.3578414765372275,\n",
       " 1.2851774315077849,\n",
       " 1.3284418756421288,\n",
       " 1.326301286976676,\n",
       " 1.323848357715634]"
      ]
     },
     "execution_count": 33,
     "metadata": {},
     "output_type": "execute_result"
    }
   ],
   "source": [
    "[model.wmdistance(strs_proc[0], strs_proc[j]) for j in range(len(nbows))]"
   ]
  },
  {
   "cell_type": "markdown",
   "metadata": {},
   "source": [
    "## Prefetch and Prune"
   ]
  },
  {
   "cell_type": "markdown",
   "metadata": {},
   "source": [
    "This final method is actually just a way of using everything that we made before and all we know about these methods compared to the exact *WMD*.\n",
    "\n",
    "We know that *WCD* lower bounds the *WMD* between the two documents. We also know that *RWMD* also lower bounds the exact *WMD* but more tightly.\n",
    "\n",
    "*WCD* is also way cheaper than *RWMD* which is in turn cheaper than exact *WMD*.\n",
    "\n",
    "Using all these, we can devise an algorithm that actually tries to only compute the most expensive algorithm of these 3 only when needed and at the last moment. We still need to precompute $k$ times the *WMD* at first though."
   ]
  },
  {
   "cell_type": "markdown",
   "metadata": {},
   "source": [
    "Here's pseudo-code for the WMD with Prefect and Prune implementation:\n",
    "\n",
    "```\n",
    "        function rwmd:\n",
    "            doc <- document id\n",
    "            doc_list <- docs to compare to\n",
    "            k <- the k nearest neighbors we want\n",
    "            m <- the m candidates to consider\n",
    "        begin:\n",
    "            doc_list_sorted <- sort all the documents by computing their WCD to our input document\n",
    "            \n",
    "            Precompute the first k candidates and their distances using the exact WMD\n",
    "    \n",
    "            For every doc in doc_list_sorted:\n",
    "                We first look at if we can prune documents using their RWMD,\n",
    "                because RWMD is a lower bound to WMD\n",
    "                \n",
    "                If we can't, this means that this document might be a nearest neighbor candidate:\n",
    "                    wmd_dist <- we compute its exact WMD\n",
    "                    \n",
    "                    Using its exact WMD, we'll check if its distance is lower than the candidates\n",
    "                    we already have.\n",
    "                    While we do so, we count the number of neighbors compared to which this new\n",
    "                    candidate has a lower distance\n",
    "                    And we compute an index to use for sorted insertion in our array (that behaves like a queue)\n",
    "                    \n",
    "                    // Our array works in a reversed way to simulate a queue and because\n",
    "                    // if we want to insert without removing elements, it has to be at the end\n",
    "                    // That's why we remove the first element (largest)\n",
    "                    We then insert the new element to the array in a sorted fashion and remove the first\n",
    "                    element because we know it's the largest distance so far\n",
    "                    \n",
    "            return the list of k nearest neighbor candidates\n",
    "        end\n",
    "```\n",
    "\n",
    "**Complexity: $O(m)$**, where $m$ is the number of time we're willing to call any (approximate or exact) *WMD*  computation for a document."
   ]
  },
  {
   "cell_type": "code",
   "execution_count": 19,
   "metadata": {},
   "outputs": [],
   "source": [
    "def wmd_prefetch_prune(doc, doc_list, k, m):\n",
    "    # Sort the input documents given their WCD\n",
    "    doc_list_sorted = doc_list\n",
    "    doc_list_sorted.sort(key=lambda x: wcd(doc, x))\n",
    "    \n",
    "    # Has to be at least the number of neighbthors\n",
    "    if m < k:\n",
    "        m = k\n",
    "    # Or at most the length of the document list\n",
    "    elif m > len(doc_list):\n",
    "        m = len(doc_list)\n",
    "    \n",
    "    # Arrays to store the candidates and their distances of precomputed WMD of first k candidates\n",
    "    nearest_docs = doc_list_sorted[:k][::-1]\n",
    "    nearest_distances = [model.wmdistance(strs_proc[doc], strs_proc[curr_doc]) for curr_doc in (doc_list_sorted[:k])[::-1]]\n",
    "\n",
    "    doc_list_sorted = np.array(doc_list_sorted)\n",
    "    idx = k\n",
    "    push_off = 0\n",
    "    \n",
    "    # Go through every document\n",
    "    #print(k, m)\n",
    "    for curr_doc in doc_list_sorted[k:m]:\n",
    "        rwmd_dist = 0\n",
    "        \n",
    "        # Compute the doc's RWMD to see if we can prune it or not\n",
    "        if idx >= k:\n",
    "            rwmd_dist = rwmd(doc, curr_doc)\n",
    "\n",
    "        # Can't prune this document, so we compute its actual exact WMD\n",
    "        # nearest_distances[0] is the kth closest document because\n",
    "        # it contains the largest distance element because of the way we sort\n",
    "        if rwmd_dist < nearest_distances[0]:\n",
    "            neighbor_number = 0\n",
    "            # Compute the exact WMD\n",
    "            wmd_dist = model.wmdistance(strs_proc[doc], strs_proc[curr_doc])\n",
    "\n",
    "            # Check if we've found a candidate that has lower distance\n",
    "            w = np.sum(wmd_dist < np.array(nearest_distances))\n",
    "            # Get the final index to be used for insertion\n",
    "            neighbor_number = min(w, m)\n",
    "            \n",
    "            # If we found a good candidate\n",
    "            if neighbor_number > 0:\n",
    "                nearest_distances.insert(neighbor_number, wmd_dist)\n",
    "                nearest_docs.insert(neighbor_number, curr_doc)\n",
    "                \n",
    "                # Pop the largest element after we inserted the new candidate \n",
    "                nearest_distances.pop(0)\n",
    "                nearest_docs.pop(0)\n",
    "        idx += 1\n",
    "    \n",
    "    return nearest_docs[:k]"
   ]
  },
  {
   "cell_type": "markdown",
   "metadata": {},
   "source": [
    "### Usage"
   ]
  },
  {
   "cell_type": "code",
   "execution_count": 376,
   "metadata": {
    "scrolled": true
   },
   "outputs": [
    {
     "data": {
      "text/plain": [
       "[[5, 18, 1, 0],\n",
       " [3, 5, 0, 1],\n",
       " [13, 15, 5, 2],\n",
       " [13, 16, 5, 3],\n",
       " [5, 20, 6, 4],\n",
       " [20, 16, 7, 5],\n",
       " [5, 20, 4, 6],\n",
       " [20, 16, 5, 7],\n",
       " [21, 20, 9, 8],\n",
       " [1, 11, 10, 9],\n",
       " [9, 5, 11, 10],\n",
       " [20, 9, 10, 11],\n",
       " [15, 14, 13, 12],\n",
       " [15, 3, 12, 13],\n",
       " [12, 16, 15, 14],\n",
       " [5, 16, 14, 15],\n",
       " [7, 5, 15, 16],\n",
       " [18, 5, 20, 17],\n",
       " [3, 19, 20, 18],\n",
       " [21, 5, 20, 19],\n",
       " [6, 19, 5, 20],\n",
       " [6, 19, 20, 21]]"
      ]
     },
     "execution_count": 376,
     "metadata": {},
     "output_type": "execute_result"
    }
   ],
   "source": [
    "wmd_nn = [wmd_prefetch_prune(idx, [i for i in range(len(strs_proc))], 4, 100) for idx in range(len(strs_proc))]\n",
    "wmd_nn"
   ]
  },
  {
   "cell_type": "code",
   "execution_count": 366,
   "metadata": {},
   "outputs": [
    {
     "name": "stdout",
     "output_type": "stream",
     "text": [
      "[[ 0  1 18  7]\n",
      " [ 1  0  3  4]\n",
      " [ 2 13  7 15]\n",
      " [ 3 13 16 19]\n",
      " [ 4  6 20 16]\n",
      " [ 5  7 16 21]\n",
      " [ 6  4 20 21]\n",
      " [ 7  5 16 20]\n",
      " [ 8  9 10 20]\n",
      " [ 9  8 10 11]\n",
      " [10 11  5  9]\n",
      " [11 10  9 20]\n",
      " [12 13 14 15]\n",
      " [13 12  3 15]\n",
      " [14 15 16 12]\n",
      " [15 14 16 13]\n",
      " [16 15  5  7]\n",
      " [17 18 20 19]\n",
      " [18 19 20 21]\n",
      " [19 20 21 18]\n",
      " [20 19 21  4]\n",
      " [21 20 19  5]]\n"
     ]
    }
   ],
   "source": [
    "a = np.array([i for i in range(len(strs_proc))])\n",
    "wmd_k_first = [[model.wmdistance(strs_proc[idx], strs_proc[j]) for j in a] for idx in range(len(strs_proc))]\n",
    "wmd_k_first = a[np.argsort(wmd_k_first)][:, :4]\n",
    "print(wmd_k_first)"
   ]
  },
  {
   "cell_type": "code",
   "execution_count": 367,
   "metadata": {},
   "outputs": [
    {
     "name": "stdout",
     "output_type": "stream",
     "text": [
      "Final score: 81.81818181818183 %\n"
     ]
    }
   ],
   "source": [
    "acc_score = 0\n",
    "for d1, d2 in zip(wmd_nn, wmd_k_first):\n",
    "    d1 = np.array(d1)\n",
    "    index = np.in1d(d2, d1)\n",
    "    score = np.sum(index == True) / len(d1)\n",
    "    acc_score += score\n",
    "print(\"Final score:\", acc_score / len(wmd_nn) * 100,'%')"
   ]
  },
  {
   "cell_type": "markdown",
   "metadata": {},
   "source": [
    "# Performance"
   ]
  },
  {
   "cell_type": "markdown",
   "metadata": {},
   "source": [
    "This section will benchmark the runtime and accuracy of the described implementations"
   ]
  },
  {
   "cell_type": "markdown",
   "metadata": {},
   "source": [
    "Let's use **Matplotlib** for visualization purposes"
   ]
  },
  {
   "cell_type": "code",
   "execution_count": 20,
   "metadata": {},
   "outputs": [],
   "source": [
    "# For visualization only\n",
    "import matplotlib.pyplot as plt"
   ]
  },
  {
   "cell_type": "markdown",
   "metadata": {},
   "source": [
    "This enables us to also get the return values of functions when timing a function call, so that we can get timing and accuracy results at the same time. So we override the *timeit* function template:"
   ]
  },
  {
   "cell_type": "code",
   "execution_count": 21,
   "metadata": {},
   "outputs": [],
   "source": [
    "timeit.template = \"\"\"\n",
    "def inner(_it, _timer{init}):\n",
    "    {setup}\n",
    "    _t0 = _timer()\n",
    "    for _i in _it:\n",
    "        retval = {stmt}\n",
    "    _t1 = _timer()\n",
    "    return _t1 - _t0, retval\n",
    "\"\"\""
   ]
  },
  {
   "cell_type": "markdown",
   "metadata": {},
   "source": [
    "The **time_func** function enables us to time each implementation, as well as the one from *Gensim*. It runs **each WMD implementation** of one document against all the other documents progressively."
   ]
  },
  {
   "cell_type": "code",
   "execution_count": 128,
   "metadata": {},
   "outputs": [],
   "source": [
    "def time_func(fn=rwmd, nb_docs=10, nb_iter=10):\n",
    "    timing_data = np.zeros((nb_docs - 1, 2))\n",
    "    acc_data = np.zeros((nb_docs - 1, 2), dtype=np.ndarray)\n",
    "    for i in range(nb_docs - 1):\n",
    "        if fn == model.wmdistance:\n",
    "            def f():\n",
    "                return [model.wmdistance(strs_proc[i], strs_proc[j]) for j in range(nb_docs - 1)]\n",
    "        else:\n",
    "            def f():\n",
    "                return [fn(i, j) for j in range(nb_docs - 1)]\n",
    "        \n",
    "        #timing_data[i][0], _ = timeit.Timer(f, 'gc.enable()').timeit(number=nb_iter)\n",
    "        timing_data[i][0], acc_data[i][0] = timeit.Timer(f).timeit(number=nb_iter)\n",
    "        timing_data[i][1] = len(strs_proc[i])\n",
    "    \n",
    "    return timing_data, acc_data"
   ]
  },
  {
   "cell_type": "markdown",
   "metadata": {},
   "source": [
    "Here we get the different benchmarks for different implementations. We separate them in **3 groups**:\n",
    "\n",
    "* **data**: Implementations using the cached symmetrical distance function and *wmdistance* from *Gensim* too\n",
    "* **data_no_cache**:  Implementations using the classic distance function\n",
    "* **data_cache_full_mem**:  Implementations using the fully cached distance function"
   ]
  },
  {
   "cell_type": "code",
   "execution_count": 118,
   "metadata": {
    "scrolled": true
   },
   "outputs": [],
   "source": [
    "funcs = [wcd, rwmd_implem_1, rwmd_implem_2, rwmd, model.wmdistance]\n",
    "data = np.array([time_func(i, len(strs_proc), 10) for i in funcs])"
   ]
  },
  {
   "cell_type": "code",
   "execution_count": 129,
   "metadata": {},
   "outputs": [],
   "source": [
    "data_no_cache = np.array([time_func(i, len(strs_proc), 10) for i in funcs[:-1]])"
   ]
  },
  {
   "cell_type": "code",
   "execution_count": 106,
   "metadata": {},
   "outputs": [],
   "source": [
    "data_cache_full_mem = np.array([time_func(i, len(strs_proc), 10) for i in funcs[:-1]])"
   ]
  },
  {
   "cell_type": "markdown",
   "metadata": {},
   "source": [
    "## Against all the documents"
   ]
  },
  {
   "cell_type": "markdown",
   "metadata": {},
   "source": [
    "Here we compute the distance on all documents relatively to eachother"
   ]
  },
  {
   "cell_type": "markdown",
   "metadata": {},
   "source": [
    "### Average computation time"
   ]
  },
  {
   "cell_type": "markdown",
   "metadata": {},
   "source": [
    "We first benchmark all the **WMD** implementations that use no distance caching:"
   ]
  },
  {
   "cell_type": "code",
   "execution_count": 134,
   "metadata": {
    "scrolled": true
   },
   "outputs": [
    {
     "data": {
      "image/png": "[encoded data removed]",
      "text/plain": [
       "<Figure size 432x288 with 1 Axes>"
      ]
     },
     "metadata": {
      "needs_background": "light"
     },
     "output_type": "display_data"
    }
   ],
   "source": [
    "x = data_no_cache[0, 0, :, 1]\n",
    "fn_names = [\"wcd\", \"rwmd_implem_1\", \"rwmd_implem_2\", \"rwmd\", \"model.wmdistance\"]\n",
    "\n",
    "x_args = np.argsort(x)\n",
    "\n",
    "fig, ax = plt.subplots()\n",
    "for i in range(data_no_cache.shape[0]):\n",
    "    ax.plot(x[x_args], data_no_cache[i, 0, x_args, 0] / 100, 'k', color=np.around(np.random.rand(3, 1), 1).flatten(), label=fn_names[i])\n",
    "i = len(data) - 1\n",
    "ax.plot(x[x_args], data[i, 0, x_args, 0] / 100, 'k', color=np.around(np.random.rand(3, 1), 1).flatten(), label=fn_names[i])\n",
    "\n",
    "ax.legend()\n",
    "\n",
    "ax.set_xlabel('Document size (in words)')\n",
    "ax.set_ylabel('Time (s)')\n",
    "ax.set_title('Average computation time given document sizes')\n",
    "plt.show()"
   ]
  },
  {
   "cell_type": "markdown",
   "metadata": {},
   "source": [
    "We can see that *WCD* is clearly ahead in terms of speed.\n",
    "\n",
    "Then some of the *RWMD* implementations are slower than the original *wmdistance* from *Gensim*."
   ]
  },
  {
   "cell_type": "markdown",
   "metadata": {},
   "source": [
    "Let's use distance caching on all implementations and see how that changes things:"
   ]
  },
  {
   "cell_type": "code",
   "execution_count": 119,
   "metadata": {
    "scrolled": true
   },
   "outputs": [
    {
     "data": {
      "image/png": "[encoded data removed]",
      "text/plain": [
       "<Figure size 432x288 with 1 Axes>"
      ]
     },
     "metadata": {
      "needs_background": "light"
     },
     "output_type": "display_data"
    }
   ],
   "source": [
    "x = data[0, 0, :, 1]\n",
    "fn_names = [\"wcd\", \"rwmd_implem_1\", \"rwmd_implem_2\", \"rwmd\", \"model.wmdistance\"]\n",
    "\n",
    "x_args = np.argsort(x)\n",
    "\n",
    "fig, ax = plt.subplots()\n",
    "for i in range(data.shape[0]):\n",
    "    ax.plot(x[x_args], data[i, 0, x_args, 0] / 100, 'k', color=np.around(np.random.rand(3, 1), 1).flatten(), label=fn_names[i] + ('' if i == len(fn_names) - 1 else '_cached'))\n",
    "\n",
    "ax.legend()\n",
    "\n",
    "ax.set_xlabel('Document size (in words)')\n",
    "ax.set_ylabel('Time (s)')\n",
    "ax.set_title('Average computation time given document sizes')\n",
    "plt.show()"
   ]
  },
  {
   "cell_type": "markdown",
   "metadata": {},
   "source": [
    "We can now see that all our implementations are **faster than the original *wmdistance* thanks to distance caching**."
   ]
  },
  {
   "cell_type": "markdown",
   "metadata": {},
   "source": [
    "Now let's use and bench the final caching algorithm that uses the full distance matrix. This caching actually **uses twice the memory**."
   ]
  },
  {
   "cell_type": "code",
   "execution_count": 136,
   "metadata": {
    "scrolled": true
   },
   "outputs": [
    {
     "data": {
      "image/png": "[encoded data removed]",
      "text/plain": [
       "<Figure size 432x288 with 1 Axes>"
      ]
     },
     "metadata": {
      "needs_background": "light"
     },
     "output_type": "display_data"
    }
   ],
   "source": [
    "x = data_cache_full_mem[0, 0, :, 1]\n",
    "fn_names = [\"wcd\", \"rwmd_implem_1\", \"rwmd_implem_2\", \"rwmd\", \"model.wmdistance\"]\n",
    "\n",
    "x_args = np.argsort(x)\n",
    "\n",
    "fig, ax = plt.subplots()\n",
    "for i in range(data_cache_full_mem.shape[0]):\n",
    "    ax.plot(x[x_args], data_cache_full_mem[i, 0, x_args, 0] / 100, 'k', color=np.around(np.random.rand(3, 1), 1).flatten(), label=str(fn_names[i]+ ('' if i == len(fn_names) - 1 else '_full_mem')))\n",
    "ax.plot(x[x_args], data[-1, 0, x_args, 0] / 100, 'k', color=np.around(np.random.rand(3, 1), 1).flatten(), label=fn_names[-1])\n",
    "\n",
    "ax.legend()\n",
    "\n",
    "ax.set_xlabel('Document size (in words)')\n",
    "ax.set_ylabel('Time (s)')\n",
    "ax.set_title('Average computation time given document sizes')\n",
    "plt.show()"
   ]
  },
  {
   "cell_type": "markdown",
   "metadata": {},
   "source": [
    "We can see that our implementations are getting very close to eachother in terms of performance but the overall speed improvement isn't very noticeable."
   ]
  },
  {
   "cell_type": "markdown",
   "metadata": {},
   "source": [
    "Let's do a few final comparisons between cached and non cached and then between the two caching methods:"
   ]
  },
  {
   "cell_type": "code",
   "execution_count": 139,
   "metadata": {},
   "outputs": [
    {
     "data": {
      "image/png": "[encoded data removed]",
      "text/plain": [
       "<Figure size 432x288 with 1 Axes>"
      ]
     },
     "metadata": {
      "needs_background": "light"
     },
     "output_type": "display_data"
    }
   ],
   "source": [
    "x = data[0, 0, :, 1]\n",
    "fn_names = [\"wcd\", \"rwmd_implem_1\", \"rwmd_implem_2\", \"rwmd\", \"model.wmdistance\"]\n",
    "\n",
    "x_args = np.argsort(x)\n",
    "\n",
    "fig, ax = plt.subplots()\n",
    "for i in range(data.shape[0]):\n",
    "    ax.plot(x[x_args], data[i, 0, x_args, 0] / 100, 'k', color=np.around(np.random.rand(3, 1), 1).flatten(), label=str(fn_names[i]+ ('' if i == len(fn_names) - 1 else '_cached')))\n",
    "for i in range(data_no_cache.shape[0]):\n",
    "    ax.plot(x[x_args], data_no_cache[i, 0, x_args, 0] / 100, 'k', color=np.around(np.random.rand(3, 1), 1).flatten(), label=fn_names[i])\n",
    "\n",
    "ax.legend()\n",
    "\n",
    "ax.set_xlabel('Document size (in words)')\n",
    "ax.set_ylabel('Time (s)')\n",
    "ax.set_title('Average computation time given document sizes')\n",
    "plt.show()"
   ]
  },
  {
   "cell_type": "code",
   "execution_count": 141,
   "metadata": {},
   "outputs": [
    {
     "data": {
      "image/png": "[encoded data removed]",
      "text/plain": [
       "<Figure size 432x288 with 1 Axes>"
      ]
     },
     "metadata": {
      "needs_background": "light"
     },
     "output_type": "display_data"
    }
   ],
   "source": [
    "x = data[0, 0, :, 1]\n",
    "fn_names = [\"wcd\", \"rwmd_implem_1\", \"rwmd_implem_2\", \"rwmd\", \"model.wmdistance\"]\n",
    "\n",
    "x_args = np.argsort(x)\n",
    "\n",
    "fig, ax = plt.subplots()\n",
    "for i in range(data.shape[0]):\n",
    "    ax.plot(x[x_args], data[i, 0, x_args, 0] / 100, 'k', color=np.around(np.random.rand(3, 1), 1).flatten(), label=str(fn_names[i]+ ('' if i == len(fn_names) - 1 else '_cached')))\n",
    "for i in range(data_cache_full_mem.shape[0] - 1):\n",
    "    ax.plot(x[x_args], data_cache_full_mem[i, 0, x_args, 0] / 100, 'k', color=np.around(np.random.rand(3, 1), 1).flatten(), label=str(fn_names[i]+ ('' if i == len(fn_names) - 1 else '_full_mem')))\n",
    "\n",
    "ax.legend()\n",
    "\n",
    "ax.set_xlabel('Document size (in words)')\n",
    "ax.set_ylabel('Time (s)')\n",
    "ax.set_title('Average computation time given document sizes')\n",
    "plt.show()"
   ]
  },
  {
   "cell_type": "markdown",
   "metadata": {},
   "source": [
    "## Accuracy"
   ]
  },
  {
   "cell_type": "markdown",
   "metadata": {},
   "source": [
    "Here we'll discuss the accuracy of the *WMD* implementations."
   ]
  },
  {
   "cell_type": "markdown",
   "metadata": {},
   "source": [
    "This function computes the mean and stamdard deviation of the error rate compared to the original *wmdistance*"
   ]
  },
  {
   "cell_type": "code",
   "execution_count": 224,
   "metadata": {},
   "outputs": [],
   "source": [
    "def calc_dist_err(impl_id, data, wmd_ref):\n",
    "    y = np.zeros((data.shape[2], 2))\n",
    "    for i in range(data.shape[2] - 1):\n",
    "        err = [abs(np.array(data[-1, 1, i, 0]) -  np.array(wmd_ref[impl_id, 1, i, 0]))]\n",
    "        m = np.mean(err)\n",
    "        std = np.std(err)\n",
    "        y[i][0] = m\n",
    "        y[i][1] = std\n",
    "    return y"
   ]
  },
  {
   "cell_type": "markdown",
   "metadata": {},
   "source": [
    "Let's visualize all this:"
   ]
  },
  {
   "cell_type": "code",
   "execution_count": 261,
   "metadata": {},
   "outputs": [
    {
     "data": {
      "image/png": "[encoded data removed]",
      "text/plain": [
       "<Figure size 432x288 with 1 Axes>"
      ]
     },
     "metadata": {
      "needs_background": "light"
     },
     "output_type": "display_data"
    },
    {
     "data": {
      "image/png": "[encoded data removed]",
      "text/plain": [
       "<Figure size 432x288 with 1 Axes>"
      ]
     },
     "metadata": {
      "needs_background": "light"
     },
     "output_type": "display_data"
    }
   ],
   "source": [
    "x = data[0, 0, :, 1]\n",
    "fn_names = [\"wcd\", \"rwmd_implem_1\", \"rwmd_implem_2\", \"rwmd\", \"model.wmdistance\"]\n",
    "\n",
    "x_args = np.argsort(x)\n",
    "fig, ax = plt.subplots()\n",
    "fig, ax2 = plt.subplots()\n",
    "impls = (0, 3)\n",
    "n = 13\n",
    "for i in impls:\n",
    "    y = calc_dist_err(i, data, data)\n",
    "    ax.bar(x[x_args][:n] + 0.1*i, y[:n,0], 0.3, yerr=y[:n,1],\n",
    "                alpha=0.4,\n",
    "                label=fn_names[i])\n",
    "for i in impls:\n",
    "    y = calc_dist_err(i, data, data)\n",
    "    ax2.bar(x[x_args][n:] + 1.6*i, y[n:,0], 5, yerr=y[n:,1],\n",
    "                alpha=0.4,\n",
    "                label=fn_names[i])\n",
    "ax.legend()\n",
    "\n",
    "ax.set_xlabel('Document size (in words)')\n",
    "ax.set_ylabel('Scores')\n",
    "ax.set_title('Average Accuracy of WMD implementations')\n",
    "\n",
    "ax2.legend()\n",
    "\n",
    "ax2.set_xlabel('Document size (in words)')\n",
    "ax2.set_ylabel('Scores')\n",
    "ax2.set_title('Average Accuracy of WMD implementations')\n",
    "plt.show()"
   ]
  },
  {
   "cell_type": "markdown",
   "metadata": {},
   "source": [
    "We can see that the mean error of *WCD* is pretty high compared to *RWMD* but the standard deviation is actually high for the *RWMD* from document to document."
   ]
  },
  {
   "cell_type": "markdown",
   "metadata": {},
   "source": [
    "## Multiple documents"
   ]
  },
  {
   "cell_type": "markdown",
   "metadata": {},
   "source": [
    "This sections compares WMD with Prefetch and Prune to the exact WMD for the task of finding the k nearest documents."
   ]
  },
  {
   "cell_type": "markdown",
   "metadata": {},
   "source": [
    "We need a way to compute a score for our accuracy benchmark.\n",
    "\n",
    "The score is computed by counting every matching element in array $d1$ and array $d2$.\n",
    "\n",
    "For example: d1 = [0, 5, 13, 21] and d2 = [3, 21, 5, 19] have $5$ and $21$ in common, so the final count of matching elements will be $2$. We call this function $in1d$ (provided by *Numpy*).\n",
    "\n",
    "The score can then be formulated as:\n",
    "\n",
    "$$\\frac{\\sum_{i=1}^{n} in1d(d1, d2)}{n}$$\n",
    "\n",
    "So we'll be using this score to compare our implementations' accuracy against the *wmdistance* function from *Gensim*"
   ]
  },
  {
   "cell_type": "code",
   "execution_count": 22,
   "metadata": {},
   "outputs": [],
   "source": [
    "def calc_wmd_score(wmd_nn, wmd_k_first): \n",
    "    acc_score = 0\n",
    "    for d1, d2 in zip(wmd_nn, wmd_k_first):\n",
    "        d1 = np.array(d1)\n",
    "        index = np.in1d(d2, d1)\n",
    "        score = np.sum(index == True) / len(d1)\n",
    "        acc_score += score\n",
    "    return acc_score / len(wmd_nn)"
   ]
  },
  {
   "cell_type": "markdown",
   "metadata": {},
   "source": [
    "We set up the test functions:"
   ]
  },
  {
   "cell_type": "code",
   "execution_count": 100,
   "metadata": {},
   "outputs": [],
   "source": [
    "def time_func_mul_docs(k_max=3, m_max=3, nb_iter=10):\n",
    "    timing_data = np.zeros((k_max, m_max, 2))\n",
    "    \n",
    "    def f():\n",
    "        a = np.array([i for i in range(len(strs_proc))])\n",
    "        wmd_k_first = [[model.wmdistance(strs_proc[idx], strs_proc[j]) for j in a] for idx in range(len(strs_proc))]\n",
    "        return a[np.argsort(wmd_k_first)]\n",
    "    \n",
    "    timing_wmd, ret_wmd = timeit.Timer(f, 'gc.enable()').timeit(number=nb_iter)\n",
    "    \n",
    "    for k in range(1, k_max):\n",
    "        for m in range(1, m_max):\n",
    "                def f():\n",
    "                    return [wmd_prefetch_prune(idx, [i for i in range(len(strs_proc))], k, m) for idx in range(len(strs_proc))]\n",
    "                \n",
    "                print(k, m, timing_data.shape)\n",
    "                timing_data[k, m, 0], ret = timeit.Timer(f, 'gc.enable()').timeit(number=nb_iter)\n",
    "                \n",
    "                timing_data[k, m, 1] = calc_wmd_score(ret, ret_wmd[:, :k])\n",
    "                print(\"score:\", timing_data[k, m, :])\n",
    "    \n",
    "    return timing_data, timing_wmd"
   ]
  },
  {
   "cell_type": "code",
   "execution_count": 67,
   "metadata": {
    "scrolled": true
   },
   "outputs": [
    {
     "name": "stdout",
     "output_type": "stream",
     "text": [
      "1 1 (10, 10, 3)\n",
      "score: 1.0\n",
      "1 2 (10, 10, 3)\n",
      "score: 1.0\n",
      "1 3 (10, 10, 3)\n",
      "score: 1.0\n",
      "1 4 (10, 10, 3)\n",
      "score: 1.0\n",
      "1 5 (10, 10, 3)\n",
      "score: 1.0\n",
      "1 6 (10, 10, 3)\n",
      "score: 1.0\n",
      "1 7 (10, 10, 3)\n",
      "score: 1.0\n",
      "1 8 (10, 10, 3)\n",
      "score: 1.0\n",
      "1 9 (10, 10, 3)\n",
      "score: 1.0\n",
      "2 1 (10, 10, 3)\n",
      "score: 0.8181818181818182\n",
      "2 2 (10, 10, 3)\n",
      "score: 0.8181818181818182\n",
      "2 3 (10, 10, 3)\n",
      "score: 0.8409090909090909\n",
      "2 4 (10, 10, 3)\n",
      "score: 0.8863636363636364\n",
      "2 5 (10, 10, 3)\n",
      "score: 0.8863636363636364\n",
      "2 6 (10, 10, 3)\n",
      "score: 0.8863636363636364\n",
      "2 7 (10, 10, 3)\n",
      "score: 0.8863636363636364\n",
      "2 8 (10, 10, 3)\n",
      "score: 0.8863636363636364\n",
      "2 9 (10, 10, 3)\n",
      "score: 0.9318181818181818\n",
      "3 1 (10, 10, 3)\n",
      "score: 0.7878787878787876\n",
      "3 2 (10, 10, 3)\n",
      "score: 0.7878787878787876\n",
      "3 3 (10, 10, 3)\n",
      "score: 0.7878787878787876\n",
      "3 4 (10, 10, 3)\n",
      "score: 0.8181818181818182\n",
      "3 5 (10, 10, 3)\n",
      "score: 0.8181818181818182\n",
      "3 6 (10, 10, 3)\n",
      "score: 0.8181818181818182\n",
      "3 7 (10, 10, 3)\n",
      "score: 0.8181818181818182\n",
      "3 8 (10, 10, 3)\n",
      "score: 0.8181818181818182\n",
      "3 9 (10, 10, 3)\n",
      "score: 0.8484848484848485\n",
      "4 1 (10, 10, 3)\n",
      "score: 0.6931818181818182\n",
      "4 2 (10, 10, 3)\n",
      "score: 0.6931818181818182\n",
      "4 3 (10, 10, 3)\n",
      "score: 0.6931818181818182\n",
      "4 4 (10, 10, 3)\n",
      "score: 0.6931818181818182\n",
      "4 5 (10, 10, 3)\n",
      "score: 0.6931818181818182\n",
      "4 6 (10, 10, 3)\n",
      "score: 0.7045454545454546\n",
      "4 7 (10, 10, 3)\n",
      "score: 0.7159090909090909\n",
      "4 8 (10, 10, 3)\n",
      "score: 0.7272727272727273\n",
      "4 9 (10, 10, 3)\n",
      "score: 0.7386363636363636\n",
      "5 1 (10, 10, 3)\n",
      "score: 0.7000000000000001\n",
      "5 2 (10, 10, 3)\n",
      "score: 0.7000000000000001\n",
      "5 3 (10, 10, 3)\n",
      "score: 0.7000000000000001\n",
      "5 4 (10, 10, 3)\n",
      "score: 0.7000000000000001\n",
      "5 5 (10, 10, 3)\n",
      "score: 0.7000000000000001\n",
      "5 6 (10, 10, 3)\n",
      "score: 0.7090909090909091\n",
      "5 7 (10, 10, 3)\n",
      "score: 0.7181818181818183\n",
      "5 8 (10, 10, 3)\n",
      "score: 0.7181818181818183\n",
      "5 9 (10, 10, 3)\n",
      "score: 0.7272727272727273\n",
      "6 1 (10, 10, 3)\n",
      "score: 0.7045454545454546\n",
      "6 2 (10, 10, 3)\n",
      "score: 0.7045454545454546\n",
      "6 3 (10, 10, 3)\n",
      "score: 0.7045454545454546\n",
      "6 4 (10, 10, 3)\n",
      "score: 0.7045454545454546\n",
      "6 5 (10, 10, 3)\n",
      "score: 0.7045454545454546\n",
      "6 6 (10, 10, 3)\n",
      "score: 0.7045454545454546\n",
      "6 7 (10, 10, 3)\n",
      "score: 0.7121212121212122\n",
      "6 8 (10, 10, 3)\n",
      "score: 0.7272727272727274\n",
      "6 9 (10, 10, 3)\n",
      "score: 0.7348484848484851\n",
      "7 1 (10, 10, 3)\n",
      "score: 0.7207792207792207\n",
      "7 2 (10, 10, 3)\n",
      "score: 0.7207792207792207\n",
      "7 3 (10, 10, 3)\n",
      "score: 0.7207792207792207\n",
      "7 4 (10, 10, 3)\n",
      "score: 0.7207792207792207\n",
      "7 5 (10, 10, 3)\n",
      "score: 0.7207792207792207\n",
      "7 6 (10, 10, 3)\n",
      "score: 0.7207792207792207\n",
      "7 7 (10, 10, 3)\n",
      "score: 0.7207792207792207\n",
      "7 8 (10, 10, 3)\n",
      "score: 0.7272727272727273\n",
      "7 9 (10, 10, 3)\n",
      "score: 0.7337662337662337\n",
      "8 1 (10, 10, 3)\n",
      "score: 0.7329545454545454\n",
      "8 2 (10, 10, 3)\n",
      "score: 0.7329545454545454\n",
      "8 3 (10, 10, 3)\n",
      "score: 0.7329545454545454\n",
      "8 4 (10, 10, 3)\n",
      "score: 0.7329545454545454\n",
      "8 5 (10, 10, 3)\n",
      "score: 0.7329545454545454\n",
      "8 6 (10, 10, 3)\n",
      "score: 0.7329545454545454\n",
      "8 7 (10, 10, 3)\n",
      "score: 0.7329545454545454\n",
      "8 8 (10, 10, 3)\n",
      "score: 0.7329545454545454\n",
      "8 9 (10, 10, 3)\n",
      "score: 0.7386363636363636\n",
      "9 1 (10, 10, 3)\n",
      "score: 0.7777777777777779\n",
      "9 2 (10, 10, 3)\n",
      "score: 0.7777777777777779\n",
      "9 3 (10, 10, 3)\n",
      "score: 0.7777777777777779\n",
      "9 4 (10, 10, 3)\n",
      "score: 0.7777777777777779\n",
      "9 5 (10, 10, 3)\n",
      "score: 0.7777777777777779\n",
      "9 6 (10, 10, 3)\n",
      "score: 0.7777777777777779\n",
      "9 7 (10, 10, 3)\n",
      "score: 0.7777777777777779\n",
      "9 8 (10, 10, 3)\n",
      "score: 0.7777777777777779\n",
      "9 9 (10, 10, 3)\n",
      "score: 0.7777777777777779\n"
     ]
    }
   ],
   "source": [
    "data, timing_wmd = time_func_mul_docs(10, 10, 10)"
   ]
  },
  {
   "cell_type": "markdown",
   "metadata": {},
   "source": [
    "### Accuracy"
   ]
  },
  {
   "cell_type": "markdown",
   "metadata": {},
   "source": [
    "Let's look at the accuracy of our algorithm:"
   ]
  },
  {
   "cell_type": "code",
   "execution_count": 115,
   "metadata": {
    "scrolled": true
   },
   "outputs": [
    {
     "data": {
      "image/png": "[encoded data removed]",
      "text/plain": [
       "<Figure size 432x288 with 1 Axes>"
      ]
     },
     "metadata": {
      "needs_background": "light"
     },
     "output_type": "display_data"
    }
   ],
   "source": [
    "error_config = {'ecolor': '0.3'}\n",
    "fig, ax = plt.subplots()\n",
    "\n",
    "for i in range(data.shape[0]):\n",
    "    ax.bar(np.arange(data.shape[0]) + 0.1*i, data[:, i, 1], 0.1,\n",
    "                alpha=0.4, color=np.around(np.random.rand(3, 1), 1).flatten(),\n",
    "                 error_kw=error_config,\n",
    "                label='m=' + str(i))\n",
    "\n",
    "ax.legend()\n",
    "\n",
    "ax.set_xlabel('k')\n",
    "ax.set_ylabel('Scores')\n",
    "ax.set_title('Average Accuracy of WMD with Prefetch and Prune given k and m')\n",
    "\n",
    "fig.tight_layout()\n",
    "plt.show()"
   ]
  },
  {
   "cell_type": "markdown",
   "metadata": {},
   "source": [
    "We can clearly see that the accuracy is very acceptable and never dips below $70\\%$.\n",
    "\n",
    "As $k$ grows, it gets less accurate but when $m$ grows, we can compensate a bit this loss of accuracy."
   ]
  },
  {
   "cell_type": "markdown",
   "metadata": {},
   "source": [
    "### Computation time"
   ]
  },
  {
   "cell_type": "code",
   "execution_count": 116,
   "metadata": {},
   "outputs": [
    {
     "data": {
      "image/png": "[encoded data removed]",
      "text/plain": [
       "<Figure size 432x288 with 1 Axes>"
      ]
     },
     "metadata": {
      "needs_background": "light"
     },
     "output_type": "display_data"
    }
   ],
   "source": [
    "error_config = {'ecolor': '0.3'}\n",
    "fig, ax = plt.subplots()\n",
    "\n",
    "for i in range(data.shape[0]):\n",
    "    ax.bar(np.arange(data.shape[0]) + 0.1*i, data[:, i, 0] / 10, 0.1,\n",
    "                alpha=0.4, color=np.around(np.random.rand(3, 1), 1).flatten(),\n",
    "                 error_kw=error_config,\n",
    "                label='m=' + str(i))\n",
    "\n",
    "ax.bar(np.arange(data.shape[0]) + 0.1*i, [timing_wmd / 10 for i in range(data.shape[0])], 0.1,\n",
    "                alpha=1.0, color='g',\n",
    "                 error_kw=error_config,\n",
    "                label='wmd')\n",
    "\n",
    "ax.legend()\n",
    "\n",
    "ax.set_xlabel('k')\n",
    "ax.set_ylabel('Time (s)')\n",
    "ax.set_title('Average computation time of WMD with Prefetch and Prune given k and m')\n",
    "\n",
    "fig.tight_layout()\n",
    "plt.show()"
   ]
  },
  {
   "cell_type": "markdown",
   "metadata": {},
   "source": [
    "We can clearly see that the computation time of our algorithm is way faster than the original *wmdistance* from *Gensim*.\n",
    "\n",
    "As $k$ and $m$ grow, the computation time grows, but we're still way faster in any case."
   ]
  }
 ],
 "metadata": {
  "kernelspec": {
   "display_name": "Python 3",
   "language": "python",
   "name": "python3"
  },
  "language_info": {
   "codemirror_mode": {
    "name": "ipython",
    "version": 3
   },
   "file_extension": ".py",
   "mimetype": "text/x-python",
   "name": "python",
   "nbconvert_exporter": "python",
   "pygments_lexer": "ipython3",
   "version": "3.7.0"
  }
 },
 "nbformat": 4,
 "nbformat_minor": 2
}
