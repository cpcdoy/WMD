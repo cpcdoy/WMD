{
 "cells": [
  {
   "cell_type": "markdown",
   "metadata": {},
   "source": [
    "# Word Mover’s Distance"
   ]
  },
  {
   "cell_type": "markdown",
   "metadata": {},
   "source": [
    "This notebook implements the **Word Mover's Distance (WMD)** as described in **[From Word Embeddings To Document Distances](http://proceedings.mlr.press/v37/kusnerb15.pdf)** by Matt Kusner, Yu Sun, Nicholas Kolkin and Kilian Weinberger.\n",
    "\n",
    "## WMD\n",
    "### Definition\n",
    "\n",
    "The  **WMD**  measures the dissimilarity between two text documents as the minimum amount of distance that the  embedded  words  of  one  document  need  to “travel” to reach the embedded words of another document.\n",
    "\n",
    "The problem is formulated as a transportation problem that is the minimal cumulative cost of moving $d$ to $d'$ given constraints. The solution is provided by the following linear program: \n",
    "\n",
    "$$\\min_{T \\geq 0} \\sum_{i,j=1}^{n} T_{ij}c(i,j)$$\n",
    "\n",
    "subject to $$  \\sum_{j=1}^{n} T_{ij} = d_i,  \\forall i \\in \\{1, ..., n\\} $$\n",
    "$$  \\sum_{i=1}^{n} T_{ij} = d'_i,  \\forall j \\in \\{1, ..., n\\} $$\n",
    "\n",
    "### Problem \n",
    "\n",
    "This solution is exact but requires heavy computations and usually use solvers that solve a **special case** of the **Earth Mover's Distance**.\n",
    "\n",
    "As such, this notebook will go through several **faster approximate ways of computing WMD**."
   ]
  },
  {
   "cell_type": "markdown",
   "metadata": {},
   "source": [
    "# Implementation"
   ]
  },
  {
   "cell_type": "markdown",
   "metadata": {},
   "source": [
    "## Importing libraries"
   ]
  },
  {
   "cell_type": "markdown",
   "metadata": {},
   "source": [
    "We'll be using a few libraries to help with the implemention:\n",
    "\n",
    "* **Gensim**: Preprocessing, word2vec, nBOW and the wmdistance function\n",
    "* **Numpy**:  General numerical computing\n",
    "* **Matplotlib**: Display curves and perf statistics\n",
    "* **Time/Timeit**: Timing and benchmarks"
   ]
  },
  {
   "cell_type": "code",
   "execution_count": 1,
   "metadata": {},
   "outputs": [
    {
     "name": "stderr",
     "output_type": "stream",
     "text": [
      "C:\\Users\\cpcdo\\Anaconda3\\lib\\site-packages\\gensim\\utils.py:1197: UserWarning: detected Windows; aliasing chunkize to chunkize_serial\n",
      "  warnings.warn(\"detected Windows; aliasing chunkize to chunkize_serial\")\n"
     ]
    }
   ],
   "source": [
    "import gensim.parsing.preprocessing as genproc\n",
    "\n",
    "from gensim.utils import deaccent\n",
    "from gensim.models import KeyedVectors\n",
    "from gensim.models.normmodel import NormModel\n",
    "from gensim import corpora\n",
    "\n",
    "import numpy as np\n",
    "\n",
    "import time\n",
    "import timeit"
   ]
  },
  {
   "cell_type": "markdown",
   "metadata": {},
   "source": [
    "## Sentences"
   ]
  },
  {
   "cell_type": "markdown",
   "metadata": {},
   "source": [
    "Let's load a few documents containing sentences that we'll use throughout this notebook."
   ]
  },
  {
   "cell_type": "code",
   "execution_count": 2,
   "metadata": {
    "scrolled": true
   },
   "outputs": [
    {
     "data": {
      "text/plain": [
       "['Obama speaks to the media in Illinois\\n',\n",
       " 'The President greets the press in Chicago.\\n',\n",
       " 'Orange Prize winner Andrea Levy has seen her book Small Island win the Whitbread Novel of the Year Award.\\n',\n",
       " \"Sonia President has indicated that she would like to participate in next month's World Cross Country Championships in St Etienne.\\n\",\n",
       " \"The President's firm, which is now one of the biggest investors in Google, benefited from sales of high-speed internet connections and higher advert sales. TimeWarner said fourth quarter sales rose 2% to $11.1bn from $10.9bn. Its profits were buoyed by one-off gains which offset a profit dip at Warner Bros, and less users for AOL.\\n\",\n",
       " 'Denmark is holding a three-day celebration of the life of the fairy-tale author, with a concert at Parken stadium on 2 April. Other stars are expected to join the line-up in the coming months, and the Danish royal family will attend. \"Christian Andersen\\'s fairy tales are timeless and universal,\" said Jarre. \"For all of us, at any age there is always - beyond the pure enjoyment of the tale - a message to learn.\" There are year-long celebrations planned across the world to celebrate Andersen and his work, which includes The Emperor\\'s New Clothes and The Little Mermaid. Denmark\\'s Crown Prince Frederik and Crown Princess Mary visited New York on Monday to help promote the festivities. The pair were at a Manhattan library to honor US literary critic Harold Bloom \"the international icon we thought we knew so well\".\\n',\n",
       " 'Time Warner\\'s fourth quarter profits were slightly better than analysts\\' expectations. But its film division saw profits slump 27% to $284m, helped by box-office flops Alexander and Catwoman, a sharp contrast to year-earlier, when the third and final film in the Lord of the Rings trilogy boosted results. For the full-year, TimeWarner posted a profit of $3.36bn, up 27% from its 2003 performance, while revenues grew 6.4% to $42.09bn. \"Our financial performance was strong, meeting or exceeding all of our full-year objectives and greatly enhancing our flexibility,\" chairman and chief executive Richard Parsons said. For 2005, TimeWarner is projecting operating earnings growth of around 5%, and also expects higher revenue and wider profit margins. Time Warner said on Friday that it now owns 8% of search-engine Google. But its own internet business, AOL, had has mixed fortunes. It lost 464,000 subscribers in the fourth quarter profits were lower than in the preceding three quarters. However, the company said AOL\\'s underlying profit before exceptional items rose 8% on the back of stronger internet advertising revenues. It hopes to increase subscribers by offering the online service free to TimeWarner internet customers and will try to sign up AOL\\'s existing customers for high-speed broadband. TimeWarner also has to restate 2000 and 2003 results following a probe by the US Securities Exchange Commission (SEC), which is close to concluding.\\n',\n",
       " 'Denmark is holding a three-day celebration of the life of the fairy-tale author, with a concert at Parken stadium on 2 April. Other stars are expected to join the line-up in the coming months, and the Danish royal family will attend. \"Christian Andersen\\'s fairy tales are timeless and universal,\" said Jarre. \"For all of us, at any age there is always - beyond the pure enjoyment of the tale - a message to learn.\" There are year-long celebrations planned across the world to celebrate Andersen and his work, which includes The Emperor\\'s New Clothes and The Little Mermaid. Denmark\\'s Crown Prince Frederik and Crown Princess Mary visited New York on Monday to help promote the festivities. The pair were at a Manhattan library to honor US literary critic Harold Bloom \"the international icon we thought we knew so well\". \"Bloom recognizes the darker aspects of Andersen\\'s authorship,\" Prince Frederik said. Bloom is to be formally presented with the Hans Christian Andersen Award this spring in Anderson\\'s hometown of Odense. The royal couple also visited the Hans Christian Anderson School complex, where Queen Mary read The Ugly Duckling to the young audience. Later at a gala dinner, Danish supermodel Helena Christensen was named a Hans Christian Andersen ambassador. Other ambassadors include actors Harvey Keitel and Sir Roger Moore, athlete Cathy Freeman and Brazilian soccer legend Pele.\\n',\n",
       " 'lol, lol, lol, test.\\n',\n",
       " 'holé holà.\\n',\n",
       " 'AI is our friend and it has been friendly\\n',\n",
       " 'AI and humans have always been friendly\\n',\n",
       " 'Collins to compete in Birmingham\\n',\n",
       " 'World and Commonwealth 100m champion Kim Collins will compete in the 60m at the Norwich Union Grand Prix in Birmingham on 18 February.\\n',\n",
       " 'London hope over Chepkemei\\n',\n",
       " \"London Marathon are hoping that banned athlete Susan Chepkemei will still take part in this year's race on 17 April.\\n\",\n",
       " 'Chepkemei was suspended from all competition until the end of the year by Athletics Kenya after failing to report to a national training camp. \"We are watching it closely,\" said London race director David Bedford. \"There is a long way to go before the race and we are hoping the situation will be satisfactorily resolved.\" The camp in Embu was to prepare for the IAAF World Cross Country Championships later this month. Chepkemei however took part and finished third in last Sunday\\'s world best 10K race in Puerto Rico. The 29-year-old has finished second to Paula Radcliffe in the 2002 and 2003 London races as well as in November\\'s New York City marathon.\\n',\n",
       " 'Digital guru floats sub-$100 PC\\n',\n",
       " \"Nicholas Negroponte, chairman and founder of MIT's Media Labs, says he is developing a laptop PC that will go on sale for less than $100 (£53).\\n\",\n",
       " 'He told the BBC World Service program Go Digital he hoped it would become an education tool in developing countries. He said one laptop per child could be \" very important to the development of not just that child but now the whole family, village and neighborhood\". He said the child could use the laptop like a text book. He described the device as a stripped down laptop, which would run a Linux-based operating system, \"We have to get the display down to below $20, to do this we need to rear project the image rather than using an ordinary flat panel.\\n',\n",
       " '\"The second trick is to get rid of the fat , if you can skinny it down you can gain speed and the ability to use smaller processors and slower memory.\" The device will probably be exported as a kit of parts to be assembled locally to keep costs down. Mr Negroponte said this was a not for profit venture, though he recognized that the manufacturers of the components would be making money. In 1995 Mr Negroponte published the bestselling Being Digital, now widely seen as predicting the digital age. The concept is based on experiments in the US state of Maine, where children were given laptop computers to take home and do their work on.\\n',\n",
       " 'While the idea was popular amongst the children, it initially received some resistance from the teachers and there were problems with laptops getting broken. However, Mr Negroponte has adapted the idea to his own work in Cambodia where he set up two schools together with his wife and gave the children laptops. \"We put in 25 laptops three years ago , only one has been broken, the kids cherish these things, it\\'s also a TV a telephone and a games machine, not just a textbook.\" Mr Negroponte wants the laptops to become more common than mobile phones but conceded this was ambitious. \"Nokia make 200 million cell phones a year, so for us to claim we\\'re going to make 200 million laptops is a big number, but we\\'re not talking about doing it in three or five years, we\\'re talking about months.\" He plans to be distributing them by the end of 2006 and is already in discussion with the Chinese education ministry who are expected to make a large order. \"In China they spend $17 per child per year on textbooks. That\\'s for five or six years, so if we can distribute and sell laptops in quantities of one million or more to ministries of education that\\'s cheaper and the marketing overheads go away.\"']"
      ]
     },
     "execution_count": 2,
     "metadata": {},
     "output_type": "execute_result"
    }
   ],
   "source": [
    "f_strs = open(\"data/test_sentences.txt\", \"r\", encoding='utf-8')\n",
    "strs = [str for str in f_strs.readlines()]\n",
    "strs"
   ]
  },
  {
   "cell_type": "markdown",
   "metadata": {},
   "source": [
    "## Preprocessing"
   ]
  },
  {
   "cell_type": "markdown",
   "metadata": {},
   "source": [
    "This section preprocesses the text so that it can be used for our computations"
   ]
  },
  {
   "cell_type": "markdown",
   "metadata": {},
   "source": [
    "### Stopwords, punctuation, spaces removal"
   ]
  },
  {
   "cell_type": "markdown",
   "metadata": {},
   "source": [
    "Stopwords are words which are filtered out which do not really contribute to the meaning of a sentence. Stopwords examples are:\n",
    "\n",
    "* “the”\n",
    "* “a”\n",
    "* “an”\n",
    "* “in”\n",
    "\n",
    "We also remove every other unnecessary things from the text like whitespaces, punctuation, short words, etc. "
   ]
  },
  {
   "cell_type": "code",
   "execution_count": 4,
   "metadata": {},
   "outputs": [],
   "source": [
    "proc = [genproc.remove_stopwords, \n",
    "    genproc.strip_tags,\n",
    "    genproc.strip_punctuation,\n",
    "    genproc.strip_multiple_whitespaces,\n",
    "    genproc.strip_numeric,\n",
    "    genproc.remove_stopwords,\n",
    "    genproc.strip_short,\n",
    "    deaccent]\n",
    "    #genproc.stem_text]\n",
    "\n",
    "def apply_lambdas(x, lambdas):\n",
    "    return [p(x) for p in lambdas][-1]"
   ]
  },
  {
   "cell_type": "code",
   "execution_count": 5,
   "metadata": {},
   "outputs": [],
   "source": [
    "strs_proc = [genproc.preprocess_string(str, proc) for str in strs]\n",
    "strs_bbc_proc = [genproc.preprocess_string(str, proc) for str in strs_bbc]"
   ]
  },
  {
   "cell_type": "markdown",
   "metadata": {},
   "source": [
    "## nBOW"
   ]
  },
  {
   "cell_type": "markdown",
   "metadata": {},
   "source": [
    "Normalized Bag-of-word (BOW) "
   ]
  },
  {
   "cell_type": "code",
   "execution_count": 6,
   "metadata": {},
   "outputs": [
    {
     "name": "stdout",
     "output_type": "stream",
     "text": [
      "726\n"
     ]
    }
   ],
   "source": [
    "dict = corpora.Dictionary()\n",
    "bows = [dict.doc2bow(str, allow_update=True) for str in strs_proc]\n",
    "print(dict.num_pos)"
   ]
  },
  {
   "cell_type": "code",
   "execution_count": 7,
   "metadata": {},
   "outputs": [
    {
     "name": "stdout",
     "output_type": "stream",
     "text": [
      "0\n"
     ]
    }
   ],
   "source": [
    "dict_bbc = corpora.Dictionary()\n",
    "bows_bbc = [dict.doc2bow(str, allow_update=True) for str in strs_bbc_proc]\n",
    "print(dict_bbc.num_pos)"
   ]
  },
  {
   "cell_type": "code",
   "execution_count": 8,
   "metadata": {},
   "outputs": [],
   "source": [
    "def get_from_tuples(tuples, i, bows=bows):\n",
    "    l = [[t[1]] * b[1] for (b, t) in zip(bows[i], tuples)]\n",
    "    return [x for sub in l for x in sub]"
   ]
  },
  {
   "cell_type": "code",
   "execution_count": 9,
   "metadata": {},
   "outputs": [],
   "source": [
    "norm_model = NormModel(norm='l1')\n",
    "nbows_simple = [get_from_tuples(norm_model.normalize(bows[i]), i) for i in range(len(strs_proc))]"
   ]
  },
  {
   "cell_type": "code",
   "execution_count": 10,
   "metadata": {},
   "outputs": [],
   "source": [
    "nbows_bbc = [get_from_tuples(norm_model.normalize(bows_bbc[i]), i, bows_bbc) for i in range(len(strs_bbc_proc))]"
   ]
  },
  {
   "cell_type": "markdown",
   "metadata": {},
   "source": [
    "## word2vec"
   ]
  },
  {
   "cell_type": "code",
   "execution_count": 11,
   "metadata": {},
   "outputs": [],
   "source": [
    "model = KeyedVectors.load_word2vec_format('data/GoogleNews-vectors-negative300.bin.gz', binary=True)"
   ]
  },
  {
   "cell_type": "code",
   "execution_count": 12,
   "metadata": {},
   "outputs": [],
   "source": [
    "model.init_sims(replace=True)"
   ]
  },
  {
   "cell_type": "markdown",
   "metadata": {},
   "source": [
    "### Set current dataset"
   ]
  },
  {
   "cell_type": "code",
   "execution_count": 13,
   "metadata": {},
   "outputs": [],
   "source": [
    "#nbows = nbows_bbc\n",
    "nbows = nbows_simple\n",
    "strs_proc_simple = strs_proc\n",
    "#strs_proc = strs_bbc_proc\n",
    "strs_proc = strs_proc_simple"
   ]
  },
  {
   "cell_type": "markdown",
   "metadata": {},
   "source": [
    "### Distances cache"
   ]
  },
  {
   "cell_type": "code",
   "execution_count": 14,
   "metadata": {},
   "outputs": [],
   "source": [
    "class bidir_dict():\n",
    "    def __init__(self):\n",
    "        self.dict = {}\n",
    "    def __len__(self):\n",
    "        return self.dict.__len__(self) / 2\n",
    "\n",
    "    def __setitem__(self, key, value):\n",
    "        self.dict.__setitem__(key, value)\n",
    "        \n",
    "    def __getitem__(self, key):\n",
    "        g = self.dict.get(key)\n",
    "        if g == None:\n",
    "            g = self.dict.get((key[1], key[0]))\n",
    "        return g\n",
    "\n",
    "dists = bidir_dict()"
   ]
  },
  {
   "cell_type": "markdown",
   "metadata": {},
   "source": [
    "## WCD"
   ]
  },
  {
   "cell_type": "markdown",
   "metadata": {},
   "source": [
    "### $WCD(d, d') = \\left\\lVert Xd - Xd' \\right\\rVert_2$"
   ]
  },
  {
   "cell_type": "code",
   "execution_count": 169,
   "metadata": {},
   "outputs": [],
   "source": [
    "def get_centroid(doc):\n",
    "    X = np.array([model[str] for str in strs_proc[doc]])\n",
    "    d = np.array(nbows[doc])\n",
    "    \n",
    "    return X.T.dot(d)"
   ]
  },
  {
   "cell_type": "code",
   "execution_count": 170,
   "metadata": {},
   "outputs": [],
   "source": [
    "def dist(x, y, i, j):\n",
    "    return np.sqrt(np.sum((x - y)**2))"
   ]
  },
  {
   "cell_type": "code",
   "execution_count": 17,
   "metadata": {},
   "outputs": [],
   "source": [
    "def dist(x, y, i, j):\n",
    "    d = dists[(i, j)]\n",
    "    if d == None:\n",
    "        d = np.sqrt(np.sum((x - y)**2))\n",
    "        dists[(i, j)] = d\n",
    "    return d"
   ]
  },
  {
   "cell_type": "code",
   "execution_count": 171,
   "metadata": {},
   "outputs": [],
   "source": [
    "def wcd(doc1, doc2):\n",
    "    c1 = get_centroid(doc1)\n",
    "    c2 = get_centroid(doc2)\n",
    "    return dist(c1, c2, doc1, doc2)"
   ]
  },
  {
   "cell_type": "code",
   "execution_count": 172,
   "metadata": {},
   "outputs": [
    {
     "data": {
      "text/plain": [
       "[0.0,\n",
       " 0.4889688754349564,\n",
       " 0.6282021317744428,\n",
       " 0.607863411337698,\n",
       " 0.6216390672798184,\n",
       " 0.5685506211966792,\n",
       " 0.634117029062517,\n",
       " 0.6086501006435308,\n",
       " 2.294856610359048,\n",
       " 0.8530214259104537,\n",
       " 0.8912037390990674,\n",
       " 0.8495958119706942,\n",
       " 0.740203290171906,\n",
       " 0.6066595381454836,\n",
       " 0.765175278237766,\n",
       " 0.6506489116202538,\n",
       " 0.6153644479910629,\n",
       " 0.7279378379077874,\n",
       " 0.6405168303900033,\n",
       " 0.6178455141858197,\n",
       " 0.5810393113521084,\n",
       " 0.679971016715287]"
      ]
     },
     "execution_count": 172,
     "metadata": {},
     "output_type": "execute_result"
    }
   ],
   "source": [
    "[wcd(0, i) for i in range(len(nbows))]"
   ]
  },
  {
   "cell_type": "code",
   "execution_count": 173,
   "metadata": {},
   "outputs": [
    {
     "data": {
      "text/plain": [
       "[['Obama', 'speaks', 'media', 'Illinois'],\n",
       " ['The', 'President', 'greets', 'press', 'Chicago'],\n",
       " ['Orange',\n",
       "  'Prize',\n",
       "  'winner',\n",
       "  'Andrea',\n",
       "  'Levy',\n",
       "  'seen',\n",
       "  'book',\n",
       "  'Small',\n",
       "  'Island',\n",
       "  'win',\n",
       "  'Whitbread',\n",
       "  'Novel',\n",
       "  'Year',\n",
       "  'Award'],\n",
       " ['Sonia',\n",
       "  'President',\n",
       "  'indicated',\n",
       "  'like',\n",
       "  'participate',\n",
       "  'month',\n",
       "  'World',\n",
       "  'Cross',\n",
       "  'Country',\n",
       "  'Championships',\n",
       "  'Etienne'],\n",
       " ['The',\n",
       "  'President',\n",
       "  'firm',\n",
       "  'biggest',\n",
       "  'investors',\n",
       "  'Google',\n",
       "  'benefited',\n",
       "  'sales',\n",
       "  'high',\n",
       "  'speed',\n",
       "  'internet',\n",
       "  'connections',\n",
       "  'higher',\n",
       "  'advert',\n",
       "  'sales',\n",
       "  'TimeWarner',\n",
       "  'said',\n",
       "  'fourth',\n",
       "  'quarter',\n",
       "  'sales',\n",
       "  'rose',\n",
       "  'Its',\n",
       "  'profits',\n",
       "  'buoyed',\n",
       "  'gains',\n",
       "  'offset',\n",
       "  'profit',\n",
       "  'dip',\n",
       "  'Warner',\n",
       "  'Bros',\n",
       "  'users',\n",
       "  'AOL'],\n",
       " ['Denmark',\n",
       "  'holding',\n",
       "  'day',\n",
       "  'celebration',\n",
       "  'life',\n",
       "  'fairy',\n",
       "  'tale',\n",
       "  'author',\n",
       "  'concert',\n",
       "  'Parken',\n",
       "  'stadium',\n",
       "  'April',\n",
       "  'Other',\n",
       "  'stars',\n",
       "  'expected',\n",
       "  'join',\n",
       "  'line',\n",
       "  'coming',\n",
       "  'months',\n",
       "  'Danish',\n",
       "  'royal',\n",
       "  'family',\n",
       "  'attend',\n",
       "  'Christian',\n",
       "  'Andersen',\n",
       "  'fairy',\n",
       "  'tales',\n",
       "  'timeless',\n",
       "  'universal',\n",
       "  'said',\n",
       "  'Jarre',\n",
       "  'For',\n",
       "  'age',\n",
       "  'pure',\n",
       "  'enjoyment',\n",
       "  'tale',\n",
       "  'message',\n",
       "  'learn',\n",
       "  'There',\n",
       "  'year',\n",
       "  'long',\n",
       "  'celebrations',\n",
       "  'planned',\n",
       "  'world',\n",
       "  'celebrate',\n",
       "  'Andersen',\n",
       "  'work',\n",
       "  'includes',\n",
       "  'The',\n",
       "  'Emperor',\n",
       "  'New',\n",
       "  'Clothes',\n",
       "  'The',\n",
       "  'Little',\n",
       "  'Mermaid',\n",
       "  'Denmark',\n",
       "  'Crown',\n",
       "  'Prince',\n",
       "  'Frederik',\n",
       "  'Crown',\n",
       "  'Princess',\n",
       "  'Mary',\n",
       "  'visited',\n",
       "  'New',\n",
       "  'York',\n",
       "  'Monday',\n",
       "  'help',\n",
       "  'promote',\n",
       "  'festivities',\n",
       "  'The',\n",
       "  'pair',\n",
       "  'Manhattan',\n",
       "  'library',\n",
       "  'honor',\n",
       "  'literary',\n",
       "  'critic',\n",
       "  'Harold',\n",
       "  'Bloom',\n",
       "  'international',\n",
       "  'icon',\n",
       "  'thought',\n",
       "  'knew'],\n",
       " ['Time',\n",
       "  'Warner',\n",
       "  'fourth',\n",
       "  'quarter',\n",
       "  'profits',\n",
       "  'slightly',\n",
       "  'better',\n",
       "  'analysts',\n",
       "  'expectations',\n",
       "  'But',\n",
       "  'film',\n",
       "  'division',\n",
       "  'saw',\n",
       "  'profits',\n",
       "  'slump',\n",
       "  'helped',\n",
       "  'box',\n",
       "  'office',\n",
       "  'flops',\n",
       "  'Alexander',\n",
       "  'Catwoman',\n",
       "  'sharp',\n",
       "  'contrast',\n",
       "  'year',\n",
       "  'earlier',\n",
       "  'final',\n",
       "  'film',\n",
       "  'Lord',\n",
       "  'Rings',\n",
       "  'trilogy',\n",
       "  'boosted',\n",
       "  'results',\n",
       "  'For',\n",
       "  'year',\n",
       "  'TimeWarner',\n",
       "  'posted',\n",
       "  'profit',\n",
       "  'performance',\n",
       "  'revenues',\n",
       "  'grew',\n",
       "  'Our',\n",
       "  'financial',\n",
       "  'performance',\n",
       "  'strong',\n",
       "  'meeting',\n",
       "  'exceeding',\n",
       "  'year',\n",
       "  'objectives',\n",
       "  'greatly',\n",
       "  'enhancing',\n",
       "  'flexibility',\n",
       "  'chairman',\n",
       "  'chief',\n",
       "  'executive',\n",
       "  'Richard',\n",
       "  'Parsons',\n",
       "  'said',\n",
       "  'For',\n",
       "  'TimeWarner',\n",
       "  'projecting',\n",
       "  'operating',\n",
       "  'earnings',\n",
       "  'growth',\n",
       "  'expects',\n",
       "  'higher',\n",
       "  'revenue',\n",
       "  'wider',\n",
       "  'profit',\n",
       "  'margins',\n",
       "  'Time',\n",
       "  'Warner',\n",
       "  'said',\n",
       "  'Friday',\n",
       "  'owns',\n",
       "  'search',\n",
       "  'engine',\n",
       "  'Google',\n",
       "  'But',\n",
       "  'internet',\n",
       "  'business',\n",
       "  'AOL',\n",
       "  'mixed',\n",
       "  'fortunes',\n",
       "  'lost',\n",
       "  'subscribers',\n",
       "  'fourth',\n",
       "  'quarter',\n",
       "  'profits',\n",
       "  'lower',\n",
       "  'preceding',\n",
       "  'quarters',\n",
       "  'However',\n",
       "  'company',\n",
       "  'said',\n",
       "  'AOL',\n",
       "  'underlying',\n",
       "  'profit',\n",
       "  'exceptional',\n",
       "  'items',\n",
       "  'rose',\n",
       "  'stronger',\n",
       "  'internet',\n",
       "  'advertising',\n",
       "  'revenues',\n",
       "  'hopes',\n",
       "  'increase',\n",
       "  'subscribers',\n",
       "  'offering',\n",
       "  'online',\n",
       "  'service',\n",
       "  'free',\n",
       "  'TimeWarner',\n",
       "  'internet',\n",
       "  'customers',\n",
       "  'try',\n",
       "  'sign',\n",
       "  'AOL',\n",
       "  'existing',\n",
       "  'customers',\n",
       "  'high',\n",
       "  'speed',\n",
       "  'broadband',\n",
       "  'TimeWarner',\n",
       "  'restate',\n",
       "  'results',\n",
       "  'following',\n",
       "  'probe',\n",
       "  'Securities',\n",
       "  'Exchange',\n",
       "  'Commission',\n",
       "  'SEC',\n",
       "  'close',\n",
       "  'concluding'],\n",
       " ['Denmark',\n",
       "  'holding',\n",
       "  'day',\n",
       "  'celebration',\n",
       "  'life',\n",
       "  'fairy',\n",
       "  'tale',\n",
       "  'author',\n",
       "  'concert',\n",
       "  'Parken',\n",
       "  'stadium',\n",
       "  'April',\n",
       "  'Other',\n",
       "  'stars',\n",
       "  'expected',\n",
       "  'join',\n",
       "  'line',\n",
       "  'coming',\n",
       "  'months',\n",
       "  'Danish',\n",
       "  'royal',\n",
       "  'family',\n",
       "  'attend',\n",
       "  'Christian',\n",
       "  'Andersen',\n",
       "  'fairy',\n",
       "  'tales',\n",
       "  'timeless',\n",
       "  'universal',\n",
       "  'said',\n",
       "  'Jarre',\n",
       "  'For',\n",
       "  'age',\n",
       "  'pure',\n",
       "  'enjoyment',\n",
       "  'tale',\n",
       "  'message',\n",
       "  'learn',\n",
       "  'There',\n",
       "  'year',\n",
       "  'long',\n",
       "  'celebrations',\n",
       "  'planned',\n",
       "  'world',\n",
       "  'celebrate',\n",
       "  'Andersen',\n",
       "  'work',\n",
       "  'includes',\n",
       "  'The',\n",
       "  'Emperor',\n",
       "  'New',\n",
       "  'Clothes',\n",
       "  'The',\n",
       "  'Little',\n",
       "  'Mermaid',\n",
       "  'Denmark',\n",
       "  'Crown',\n",
       "  'Prince',\n",
       "  'Frederik',\n",
       "  'Crown',\n",
       "  'Princess',\n",
       "  'Mary',\n",
       "  'visited',\n",
       "  'New',\n",
       "  'York',\n",
       "  'Monday',\n",
       "  'help',\n",
       "  'promote',\n",
       "  'festivities',\n",
       "  'The',\n",
       "  'pair',\n",
       "  'Manhattan',\n",
       "  'library',\n",
       "  'honor',\n",
       "  'literary',\n",
       "  'critic',\n",
       "  'Harold',\n",
       "  'Bloom',\n",
       "  'international',\n",
       "  'icon',\n",
       "  'thought',\n",
       "  'knew',\n",
       "  'Bloom',\n",
       "  'recognizes',\n",
       "  'darker',\n",
       "  'aspects',\n",
       "  'Andersen',\n",
       "  'authorship',\n",
       "  'Prince',\n",
       "  'Frederik',\n",
       "  'said',\n",
       "  'Bloom',\n",
       "  'formally',\n",
       "  'presented',\n",
       "  'Hans',\n",
       "  'Christian',\n",
       "  'Andersen',\n",
       "  'Award',\n",
       "  'spring',\n",
       "  'Anderson',\n",
       "  'hometown',\n",
       "  'Odense',\n",
       "  'The',\n",
       "  'royal',\n",
       "  'couple',\n",
       "  'visited',\n",
       "  'Hans',\n",
       "  'Christian',\n",
       "  'Anderson',\n",
       "  'School',\n",
       "  'complex',\n",
       "  'Queen',\n",
       "  'Mary',\n",
       "  'read',\n",
       "  'The',\n",
       "  'Ugly',\n",
       "  'Duckling',\n",
       "  'young',\n",
       "  'audience',\n",
       "  'Later',\n",
       "  'gala',\n",
       "  'dinner',\n",
       "  'Danish',\n",
       "  'supermodel',\n",
       "  'Helena',\n",
       "  'Christensen',\n",
       "  'named',\n",
       "  'Hans',\n",
       "  'Christian',\n",
       "  'Andersen',\n",
       "  'ambassador',\n",
       "  'Other',\n",
       "  'ambassadors',\n",
       "  'include',\n",
       "  'actors',\n",
       "  'Harvey',\n",
       "  'Keitel',\n",
       "  'Sir',\n",
       "  'Roger',\n",
       "  'Moore',\n",
       "  'athlete',\n",
       "  'Cathy',\n",
       "  'Freeman',\n",
       "  'Brazilian',\n",
       "  'soccer',\n",
       "  'legend',\n",
       "  'Pele'],\n",
       " ['lol', 'lol', 'lol', 'test'],\n",
       " ['hole', 'hola'],\n",
       " ['friend', 'friendly'],\n",
       " ['humans', 'friendly'],\n",
       " ['Collins', 'compete', 'Birmingham'],\n",
       " ['World',\n",
       "  'Commonwealth',\n",
       "  'champion',\n",
       "  'Kim',\n",
       "  'Collins',\n",
       "  'compete',\n",
       "  'Norwich',\n",
       "  'Union',\n",
       "  'Grand',\n",
       "  'Prix',\n",
       "  'Birmingham',\n",
       "  'February'],\n",
       " ['London', 'hope', 'Chepkemei'],\n",
       " ['London',\n",
       "  'Marathon',\n",
       "  'hoping',\n",
       "  'banned',\n",
       "  'athlete',\n",
       "  'Susan',\n",
       "  'Chepkemei',\n",
       "  'year',\n",
       "  'race',\n",
       "  'April'],\n",
       " ['Chepkemei',\n",
       "  'suspended',\n",
       "  'competition',\n",
       "  'end',\n",
       "  'year',\n",
       "  'Athletics',\n",
       "  'Kenya',\n",
       "  'failing',\n",
       "  'report',\n",
       "  'national',\n",
       "  'training',\n",
       "  'camp',\n",
       "  'watching',\n",
       "  'closely',\n",
       "  'said',\n",
       "  'London',\n",
       "  'race',\n",
       "  'director',\n",
       "  'David',\n",
       "  'Bedford',\n",
       "  'There',\n",
       "  'long',\n",
       "  'way',\n",
       "  'race',\n",
       "  'hoping',\n",
       "  'situation',\n",
       "  'satisfactorily',\n",
       "  'resolved',\n",
       "  'The',\n",
       "  'camp',\n",
       "  'Embu',\n",
       "  'prepare',\n",
       "  'IAAF',\n",
       "  'World',\n",
       "  'Cross',\n",
       "  'Country',\n",
       "  'Championships',\n",
       "  'later',\n",
       "  'month',\n",
       "  'Chepkemei',\n",
       "  'took',\n",
       "  'finished',\n",
       "  'Sunday',\n",
       "  'world',\n",
       "  'best',\n",
       "  'race',\n",
       "  'Puerto',\n",
       "  'Rico',\n",
       "  'The',\n",
       "  'year',\n",
       "  'old',\n",
       "  'finished',\n",
       "  'second',\n",
       "  'Paula',\n",
       "  'Radcliffe',\n",
       "  'London',\n",
       "  'races',\n",
       "  'November',\n",
       "  'New',\n",
       "  'York',\n",
       "  'City',\n",
       "  'marathon'],\n",
       " ['Digital', 'guru', 'floats', 'sub'],\n",
       " ['Nicholas',\n",
       "  'Negroponte',\n",
       "  'chairman',\n",
       "  'founder',\n",
       "  'MIT',\n",
       "  'Media',\n",
       "  'Labs',\n",
       "  'says',\n",
       "  'developing',\n",
       "  'laptop',\n",
       "  'sale'],\n",
       " ['told',\n",
       "  'BBC',\n",
       "  'World',\n",
       "  'Service',\n",
       "  'program',\n",
       "  'Digital',\n",
       "  'hoped',\n",
       "  'education',\n",
       "  'tool',\n",
       "  'developing',\n",
       "  'countries',\n",
       "  'said',\n",
       "  'laptop',\n",
       "  'child',\n",
       "  'important',\n",
       "  'development',\n",
       "  'child',\n",
       "  'family',\n",
       "  'village',\n",
       "  'neighborhood',\n",
       "  'said',\n",
       "  'child',\n",
       "  'use',\n",
       "  'laptop',\n",
       "  'like',\n",
       "  'text',\n",
       "  'book',\n",
       "  'described',\n",
       "  'device',\n",
       "  'stripped',\n",
       "  'laptop',\n",
       "  'run',\n",
       "  'Linux',\n",
       "  'based',\n",
       "  'operating',\n",
       "  'display',\n",
       "  'need',\n",
       "  'rear',\n",
       "  'project',\n",
       "  'image',\n",
       "  'ordinary',\n",
       "  'flat',\n",
       "  'panel'],\n",
       " ['The',\n",
       "  'second',\n",
       "  'trick',\n",
       "  'rid',\n",
       "  'fat',\n",
       "  'skinny',\n",
       "  'gain',\n",
       "  'speed',\n",
       "  'ability',\n",
       "  'use',\n",
       "  'smaller',\n",
       "  'processors',\n",
       "  'slower',\n",
       "  'memory',\n",
       "  'The',\n",
       "  'device',\n",
       "  'probably',\n",
       "  'exported',\n",
       "  'kit',\n",
       "  'parts',\n",
       "  'assembled',\n",
       "  'locally',\n",
       "  'costs',\n",
       "  'Negroponte',\n",
       "  'said',\n",
       "  'profit',\n",
       "  'venture',\n",
       "  'recognized',\n",
       "  'manufacturers',\n",
       "  'components',\n",
       "  'making',\n",
       "  'money',\n",
       "  'Negroponte',\n",
       "  'published',\n",
       "  'bestselling',\n",
       "  'Being',\n",
       "  'Digital',\n",
       "  'widely',\n",
       "  'seen',\n",
       "  'predicting',\n",
       "  'digital',\n",
       "  'age',\n",
       "  'The',\n",
       "  'concept',\n",
       "  'based',\n",
       "  'experiments',\n",
       "  'state',\n",
       "  'Maine',\n",
       "  'children',\n",
       "  'given',\n",
       "  'laptop',\n",
       "  'computers',\n",
       "  'home',\n",
       "  'work'],\n",
       " ['While',\n",
       "  'idea',\n",
       "  'popular',\n",
       "  'children',\n",
       "  'initially',\n",
       "  'received',\n",
       "  'resistance',\n",
       "  'teachers',\n",
       "  'problems',\n",
       "  'laptops',\n",
       "  'getting',\n",
       "  'broken',\n",
       "  'However',\n",
       "  'Negroponte',\n",
       "  'adapted',\n",
       "  'idea',\n",
       "  'work',\n",
       "  'Cambodia',\n",
       "  'set',\n",
       "  'schools',\n",
       "  'wife',\n",
       "  'gave',\n",
       "  'children',\n",
       "  'laptops',\n",
       "  'laptops',\n",
       "  'years',\n",
       "  'ago',\n",
       "  'broken',\n",
       "  'kids',\n",
       "  'cherish',\n",
       "  'things',\n",
       "  'telephone',\n",
       "  'games',\n",
       "  'machine',\n",
       "  'textbook',\n",
       "  'Negroponte',\n",
       "  'wants',\n",
       "  'laptops',\n",
       "  'common',\n",
       "  'mobile',\n",
       "  'phones',\n",
       "  'conceded',\n",
       "  'ambitious',\n",
       "  'Nokia',\n",
       "  'million',\n",
       "  'cell',\n",
       "  'phones',\n",
       "  'year',\n",
       "  'claim',\n",
       "  'going',\n",
       "  'million',\n",
       "  'laptops',\n",
       "  'big',\n",
       "  'number',\n",
       "  'talking',\n",
       "  'years',\n",
       "  'talking',\n",
       "  'months',\n",
       "  'plans',\n",
       "  'distributing',\n",
       "  'end',\n",
       "  'discussion',\n",
       "  'Chinese',\n",
       "  'education',\n",
       "  'ministry',\n",
       "  'expected',\n",
       "  'large',\n",
       "  'order',\n",
       "  'China',\n",
       "  'spend',\n",
       "  'child',\n",
       "  'year',\n",
       "  'textbooks',\n",
       "  'That',\n",
       "  'years',\n",
       "  'distribute',\n",
       "  'sell',\n",
       "  'laptops',\n",
       "  'quantities',\n",
       "  'million',\n",
       "  'ministries',\n",
       "  'education',\n",
       "  'cheaper',\n",
       "  'marketing',\n",
       "  'overheads',\n",
       "  'away']]"
      ]
     },
     "execution_count": 173,
     "metadata": {},
     "output_type": "execute_result"
    }
   ],
   "source": [
    "strs_proc"
   ]
  },
  {
   "cell_type": "markdown",
   "metadata": {},
   "source": [
    "## Relaxed WMD"
   ]
  },
  {
   "cell_type": "code",
   "execution_count": 174,
   "metadata": {},
   "outputs": [],
   "source": [
    "def rwmd_implem_1(doc1, doc2):\n",
    "    X = model\n",
    "    idx = 0\n",
    "    rwmd1 = 0\n",
    "    for j in strs_proc[doc1]:\n",
    "        c_ij = [dist(X[j], X[i], i, j) for i in strs_proc[doc2]]\n",
    "        rwmd1 += min(c_ij) * nbows[doc1][idx]\n",
    "        idx += 1\n",
    "    idx = 0\n",
    "    rwmd2 = 0\n",
    "    for j in strs_proc[doc2]:\n",
    "        c_ij = [dist(X[j], X[i], i, j) for i in strs_proc[doc1]]\n",
    "        rwmd2 += min(c_ij) * nbows[doc2][idx]\n",
    "        idx += 1\n",
    "        \n",
    "    return max(rwmd1, rwmd2)\n",
    "\n",
    "def rwmd_implem_2(doc1, doc2):\n",
    "    doc1_len = len(nbows[doc1])\n",
    "    doc2_len = len(nbows[doc2])\n",
    "    doc1_dists = np.ones(doc1_len) * float('inf')\n",
    "    doc2_dists = np.ones(doc2_len) * float('inf')\n",
    "    \n",
    "    dists = np.array([[dist(model[i], model[j], i, j) for j in strs_proc[doc2]] for i in strs_proc[doc1]])\n",
    "    \n",
    "    for word1_index in range(doc1_len):\n",
    "        word1 = strs_proc[doc1][word1_index]\n",
    "        for word2_index in range(doc2_len):\n",
    "            word2 = strs_proc[doc2][word2_index]\n",
    "            wdist = dists[word1_index][word2_index] \n",
    "            \n",
    "            if wdist < doc1_dists[word1_index]:\n",
    "                doc1_dists[word1_index] = wdist\n",
    "            if wdist < doc2_dists[word2_index]:\n",
    "                doc2_dists[word2_index] = wdist\n",
    "    \n",
    "    rwmd1 = np.sum(doc1_dists * nbows[doc1])\n",
    "    rwmd2 = np.sum(doc2_dists * nbows[doc2])\n",
    "    rwmd = max(rwmd1, rwmd2)\n",
    "    return rwmd\n",
    "\n",
    "def rwmd(doc1, doc2):\n",
    "    doc1_len = len(nbows[doc1])\n",
    "    doc2_len = len(nbows[doc2])\n",
    "    \n",
    "    dists = np.array([[dist(model[i], model[j], i, j) for j in strs_proc[doc2]] for i in strs_proc[doc1]])\n",
    "    \n",
    "    c_ij = np.array([np.min([dists[i][j] for j in range(doc2_len)]) for i in range(doc1_len)])\n",
    "    rwmd1 = np.dot(c_ij, nbows[doc1])\n",
    "    c_ij = np.array([np.min([dists[j][i] for j in range(doc1_len)]) for i in range(doc2_len)])\n",
    "    rwmd2 = np.dot(c_ij, nbows[doc2])\n",
    "    \n",
    "    return max(rwmd1, rwmd2)"
   ]
  },
  {
   "cell_type": "code",
   "execution_count": 175,
   "metadata": {},
   "outputs": [],
   "source": [
    "#%timeit rwmd(6, 7)"
   ]
  },
  {
   "cell_type": "code",
   "execution_count": 176,
   "metadata": {},
   "outputs": [],
   "source": [
    "#%timeit rwmd_implem_1(9, 10)"
   ]
  },
  {
   "cell_type": "code",
   "execution_count": 177,
   "metadata": {},
   "outputs": [],
   "source": [
    "#%timeit rwmd_implem_2(9, 10)"
   ]
  },
  {
   "cell_type": "code",
   "execution_count": 178,
   "metadata": {},
   "outputs": [],
   "source": [
    "#%timeit wcd(9, 10)"
   ]
  },
  {
   "cell_type": "code",
   "execution_count": 179,
   "metadata": {},
   "outputs": [
    {
     "data": {
      "text/plain": [
       "0.000900626000657212"
      ]
     },
     "execution_count": 179,
     "metadata": {},
     "output_type": "execute_result"
    }
   ],
   "source": [
    "start = time.perf_counter()\n",
    "wcd(0, 5)\n",
    "end = time.perf_counter()\n",
    "end - start"
   ]
  },
  {
   "cell_type": "code",
   "execution_count": 27,
   "metadata": {},
   "outputs": [],
   "source": [
    "#%timeit model.wmdistance(strs_proc[6], strs_proc[7])"
   ]
  },
  {
   "cell_type": "code",
   "execution_count": 28,
   "metadata": {},
   "outputs": [
    {
     "data": {
      "text/plain": [
       "0.02722439699999768"
      ]
     },
     "execution_count": 28,
     "metadata": {},
     "output_type": "execute_result"
    }
   ],
   "source": [
    "start = time.perf_counter()\n",
    "model.wmdistance(strs_proc[0], strs_proc[5])\n",
    "end = time.perf_counter()\n",
    "end - start"
   ]
  },
  {
   "cell_type": "code",
   "execution_count": 29,
   "metadata": {},
   "outputs": [
    {
     "data": {
      "text/plain": [
       "[0.0,\n",
       " 1.0618066430091857,\n",
       " 1.3466628619602747,\n",
       " 1.3384341543371028,\n",
       " 1.5745622590184212,\n",
       " 1.6217780970945592,\n",
       " 2.0408487006237634,\n",
       " 2.1576749499963253,\n",
       " 3.3718802332878113,\n",
       " 1.3447080850601196,\n",
       " 1.3566317558288574,\n",
       " 1.3516850173473358,\n",
       " 1.3274114429950714,\n",
       " 1.3285035490989685,\n",
       " 1.3340416848659515,\n",
       " 1.336386799812317,\n",
       " 1.7221189198955411,\n",
       " 1.341009497642517,\n",
       " 1.2823150591416792,\n",
       " 1.7546531072882716,\n",
       " 1.529034259142699,\n",
       " 2.212308130985082]"
      ]
     },
     "execution_count": 29,
     "metadata": {},
     "output_type": "execute_result"
    }
   ],
   "source": [
    "[rwmd_implem_1(0, j) for j in range(len(nbows))]"
   ]
  },
  {
   "cell_type": "code",
   "execution_count": 30,
   "metadata": {},
   "outputs": [
    {
     "data": {
      "text/plain": [
       "[0.0,\n",
       " 1.0618066430091857,\n",
       " 1.3466628619602747,\n",
       " 1.3384341543371028,\n",
       " 1.5745622590184212,\n",
       " 1.621778097094559,\n",
       " 2.040848700623763,\n",
       " 2.1576749499963253,\n",
       " 3.3718802332878113,\n",
       " 1.3447080850601196,\n",
       " 1.3566317558288574,\n",
       " 1.3516850173473358,\n",
       " 1.3274114429950714,\n",
       " 1.3285035490989683,\n",
       " 1.3340416848659515,\n",
       " 1.336386799812317,\n",
       " 1.7221189198955411,\n",
       " 1.341009497642517,\n",
       " 1.2823150591416792,\n",
       " 1.7546531072882718,\n",
       " 1.5290342591426989,\n",
       " 2.2123081309850825]"
      ]
     },
     "execution_count": 30,
     "metadata": {},
     "output_type": "execute_result"
    }
   ],
   "source": [
    "[rwmd_implem_2(0, j) for j in range(len(nbows))]"
   ]
  },
  {
   "cell_type": "code",
   "execution_count": 31,
   "metadata": {},
   "outputs": [
    {
     "data": {
      "text/plain": [
       "[0.0,\n",
       " 1.0618066430091857,\n",
       " 1.3466628619602747,\n",
       " 1.3384341543371028,\n",
       " 1.5745622590184212,\n",
       " 1.621778097094559,\n",
       " 2.040848700623763,\n",
       " 2.1576749499963253,\n",
       " 3.3718802332878113,\n",
       " 1.3447080850601196,\n",
       " 1.3566317558288574,\n",
       " 1.3516850173473358,\n",
       " 1.3274114429950714,\n",
       " 1.3285035490989685,\n",
       " 1.3340416848659515,\n",
       " 1.336386799812317,\n",
       " 1.7221189198955411,\n",
       " 1.341009497642517,\n",
       " 1.2823150591416792,\n",
       " 1.7546531072882718,\n",
       " 1.5290342591426989,\n",
       " 2.2123081309850825]"
      ]
     },
     "execution_count": 31,
     "metadata": {},
     "output_type": "execute_result"
    }
   ],
   "source": [
    "[rwmd(0, j) for j in range(len(nbows))]"
   ]
  },
  {
   "cell_type": "code",
   "execution_count": 32,
   "metadata": {},
   "outputs": [
    {
     "data": {
      "text/plain": [
       "[0.0,\n",
       " 0.4889688754349564,\n",
       " 0.6282021317744428,\n",
       " 0.607863411337698,\n",
       " 0.6216390672798184,\n",
       " 0.5685506211966792,\n",
       " 0.634117029062517,\n",
       " 0.6086501006435308,\n",
       " 2.294856610359048,\n",
       " 0.8530214259104537,\n",
       " 0.8912037390990674,\n",
       " 0.8495958119706942,\n",
       " 0.740203290171906,\n",
       " 0.6066595381454836,\n",
       " 0.765175278237766,\n",
       " 0.6506489116202538,\n",
       " 0.6153644479910629,\n",
       " 0.7279378379077874,\n",
       " 0.6405168303900033,\n",
       " 0.6178455141858197,\n",
       " 0.5810393113521084,\n",
       " 0.679971016715287]"
      ]
     },
     "execution_count": 32,
     "metadata": {},
     "output_type": "execute_result"
    }
   ],
   "source": [
    "[wcd(0, j) for j in range(len(nbows))]"
   ]
  },
  {
   "cell_type": "code",
   "execution_count": 33,
   "metadata": {},
   "outputs": [
    {
     "data": {
      "text/plain": [
       "[0.0,\n",
       " 1.064594336759162,\n",
       " 1.3496657413730007,\n",
       " 1.3449191373622853,\n",
       " 1.3251857828273477,\n",
       " 1.3280674600887181,\n",
       " 1.3242448895635275,\n",
       " 1.3229613969767622,\n",
       " 1.3779413764327169,\n",
       " 1.3515102978463174,\n",
       " 1.361813734663129,\n",
       " 1.356589825306803,\n",
       " 1.3329633577233069,\n",
       " 1.3359622712908688,\n",
       " 1.338013213535734,\n",
       " 1.338700849033177,\n",
       " 1.3339357248328365,\n",
       " 1.3578414765372275,\n",
       " 1.2851774315077849,\n",
       " 1.3284418756421288,\n",
       " 1.326301286976676,\n",
       " 1.323848357715634]"
      ]
     },
     "execution_count": 33,
     "metadata": {},
     "output_type": "execute_result"
    }
   ],
   "source": [
    "[model.wmdistance(strs_proc[0], strs_proc[j]) for j in range(len(nbows))]"
   ]
  },
  {
   "cell_type": "markdown",
   "metadata": {},
   "source": [
    "## Prefetch and Prune"
   ]
  },
  {
   "cell_type": "code",
   "execution_count": 180,
   "metadata": {},
   "outputs": [],
   "source": [
    "def wmd_prefetch_prune(doc, doc_list, k, m):\n",
    "    if k < m:\n",
    "        k = m\n",
    "    elif k > len(doc_list):\n",
    "        k = len(doc_list)\n",
    "    doc_list_sorted = doc_list\n",
    "    doc_list_sorted.sort(key=lambda x: wcd(doc, x))\n",
    "    doc_list_sorted = np.array(doc_list_sorted)\n",
    "    #print(doc_list_sorted)\n",
    "    \n",
    "    nearest_neighbors = [None] * m\n",
    "    nearest_distances = [float(\"inf\")] * m\n",
    "\n",
    "    idx = 0\n",
    "    push_off = 0\n",
    "    for curr_doc in doc_list_sorted[:k]:\n",
    "        rwmd_dist = 0\n",
    "        \n",
    "        if idx >= m:\n",
    "            rwmd_dist = rwmd(doc, curr_doc)\n",
    "            #print(\"b\")\n",
    "            #print(\"curr_doc >= k\", curr_doc, rwmd_dist)\n",
    "\n",
    "        if rwmd_dist < nearest_distances[0]:\n",
    "            neighbor_number = 0\n",
    "            wmd_dist = model.wmdistance(strs_proc[doc], strs_proc[curr_doc])\n",
    "            #print(\"a\")\n",
    "            #print(\"rwmd < nn dist\", rwmd_dist, \"<\", nearest_distances[0])\n",
    "            #print(\"wmd\", wmd_dist)\n",
    "            #while wmd_dist < nearest_distances[neighbor_number]:\n",
    "            #    neighbor_number += 1\n",
    "            #    if neighbor_number >= len(nearest_distances):\n",
    "            #        break\n",
    "    \n",
    "            w = np.sum(wmd_dist < np.array(nearest_distances))\n",
    "            #print(\"W,\", w, w)\n",
    "            neighbor_number = min(w, k)\n",
    "            #print(neighbor_number, n_number)\n",
    "            if neighbor_number > 0:\n",
    "                #print(neighbor_number)\n",
    "                nearest_distances.insert(neighbor_number, wmd_dist)\n",
    "                nearest_neighbors.insert(neighbor_number, curr_doc)\n",
    "                \n",
    "                nearest_neighbors.pop(0)\n",
    "                nearest_distances.pop(0)\n",
    "                \n",
    "            #print(\"NNs\", nearest_neighbors)\n",
    "            #print(\"NNs dists\", nearest_distances)\n",
    "        idx += 1\n",
    "    #print(nearest_distances)\n",
    "    return nearest_neighbors[-k:]"
   ]
  },
  {
   "cell_type": "code",
   "execution_count": 52,
   "metadata": {
    "scrolled": true
   },
   "outputs": [
    {
     "data": {
      "text/plain": [
       "[[3, 13, 16, 19, 5, 20, 7, 1, 0],\n",
       " [13, 18, 16, 20, 5, 7, 3, 0, 1],\n",
       " [18, 20, 3, 5, 16, 15, 7, 13, 2],\n",
       " [20, 2, 7, 5, 15, 19, 16, 13, 3],\n",
       " [2, 3, 18, 5, 19, 16, 20, 6, 4],\n",
       " [13, 2, 3, 15, 19, 20, 16, 7, 5],\n",
       " [18, 19, 7, 5, 16, 21, 20, 4, 6],\n",
       " [13, 3, 2, 15, 19, 20, 16, 5, 7],\n",
       " [7, 5, 6, 16, 4, 21, 20, 9, 8],\n",
       " [7, 20, 2, 4, 16, 5, 3, 13, 9],\n",
       " [20, 2, 16, 3, 19, 7, 5, 11, 10],\n",
       " [3, 2, 16, 19, 7, 5, 20, 10, 11],\n",
       " [20, 5, 7, 3, 2, 16, 15, 13, 12],\n",
       " [20, 5, 7, 2, 16, 15, 3, 12, 13],\n",
       " [20, 2, 7, 3, 5, 13, 16, 15, 14],\n",
       " [20, 2, 7, 5, 3, 13, 16, 14, 15],\n",
       " [2, 13, 20, 6, 3, 7, 5, 15, 16],\n",
       " [3, 16, 2, 13, 5, 4, 20, 18, 17],\n",
       " [2, 5, 16, 3, 6, 4, 20, 19, 18],\n",
       " [7, 3, 16, 5, 6, 18, 21, 20, 19],\n",
       " [18, 16, 7, 5, 6, 4, 21, 19, 20],\n",
       " [4, 18, 7, 16, 6, 5, 19, 20, 21]]"
      ]
     },
     "execution_count": 52,
     "metadata": {},
     "output_type": "execute_result"
    }
   ],
   "source": [
    "wmd_nn = [wmd_prefetch_prune(idx, [i for i in range(len(strs_proc))], 9, 9) for idx in range(len(strs_proc))]\n",
    "wmd_nn"
   ]
  },
  {
   "cell_type": "code",
   "execution_count": 36,
   "metadata": {},
   "outputs": [
    {
     "name": "stdout",
     "output_type": "stream",
     "text": [
      "[[ 0  1 18  7 21  6  4]\n",
      " [ 1  0  3  4  7  5 20]\n",
      " [ 2 13  7 15 16  5  3]\n",
      " [ 3 13 16 19  1 15  5]\n",
      " [ 4  6 20 16 19  7  5]\n",
      " [ 5  7 16 21 20  6 19]\n",
      " [ 6  4 20 21 16  5  7]\n",
      " [ 7  5 16 20  6 21 19]\n",
      " [ 8  9 10 20 11 21  4]\n",
      " [ 9  8 10 11  1  0 12]\n",
      " [10 11  5  9  8  7 19]\n",
      " [11 10  9 20  5  7  8]\n",
      " [12 13 14 15 16  2  3]\n",
      " [13 12  3 15 16  2  7]\n",
      " [14 15 16 12 13 19  5]\n",
      " [15 14 16 13  3  5  7]\n",
      " [16 15  5  7  3  6 14]\n",
      " [17 18 20 19  4  6  5]\n",
      " [18 19 20 21  4  6  3]\n",
      " [19 20 21 18  6  5 16]\n",
      " [20 19 21  4  6  5  7]\n",
      " [21 20 19  5  6 16  7]]\n"
     ]
    }
   ],
   "source": [
    "a = np.array([i for i in range(len(strs_proc))])\n",
    "wmd_k_first = [[model.wmdistance(strs_proc[idx], strs_proc[j]) for j in a] for idx in range(len(strs_proc))]\n",
    "wmd_k_first = a[np.argsort(wmd_k_first)][:, :7]\n",
    "print(wmd_k_first)"
   ]
  },
  {
   "cell_type": "code",
   "execution_count": 37,
   "metadata": {},
   "outputs": [
    {
     "name": "stdout",
     "output_type": "stream",
     "text": [
      "0.42857142857142855\n",
      "0.8571428571428571\n",
      "0.8571428571428571\n",
      "0.5714285714285714\n",
      "0.7142857142857143\n",
      "0.5714285714285714\n",
      "0.8571428571428571\n",
      "0.5714285714285714\n",
      "0.7142857142857143\n",
      "0.14285714285714285\n",
      "0.7142857142857143\n",
      "0.7142857142857143\n",
      "0.8571428571428571\n",
      "0.8571428571428571\n",
      "0.7142857142857143\n",
      "0.8571428571428571\n",
      "0.7142857142857143\n",
      "0.7142857142857143\n",
      "0.7142857142857143\n",
      "0.8571428571428571\n",
      "0.8571428571428571\n",
      "1.0\n",
      "Final score: 0.7207792207792207\n"
     ]
    }
   ],
   "source": [
    "acc_score = 0\n",
    "for d1, d2 in zip(wmd_nn, wmd_k_first):\n",
    "    d1 = np.array(d1)\n",
    "    index = np.in1d(d2, d1)\n",
    "    #print(d1, d2)\n",
    "    #print(index)\n",
    "    score = np.sum(index == True) / len(d1)\n",
    "    print(score)\n",
    "    acc_score += score\n",
    "print(\"Final score:\", acc_score / len(wmd_nn))"
   ]
  },
  {
   "cell_type": "markdown",
   "metadata": {},
   "source": [
    "# Performances"
   ]
  },
  {
   "cell_type": "code",
   "execution_count": 38,
   "metadata": {},
   "outputs": [],
   "source": [
    "import matplotlib.pyplot as plt"
   ]
  },
  {
   "cell_type": "code",
   "execution_count": 181,
   "metadata": {},
   "outputs": [],
   "source": [
    "def time_func(fn=rwmd, nb_docs=10, nb_iter=10):\n",
    "    timing_data = np.zeros((nb_docs - 1, 2))\n",
    "    for i in range(nb_docs - 1):\n",
    "        if fn == model.wmdistance:\n",
    "            def f():\n",
    "                model.wmdistance(strs_proc[i], strs_proc[i + 1])\n",
    "        else:\n",
    "            def f():\n",
    "                fn(i, i + 1)\n",
    "        \n",
    "        timing_data[i][0], _ = timeit.Timer(f, 'gc.enable()').timeit(number=nb_iter)\n",
    "        timing_data[i][1] = len(strs_proc[i]) + len(strs_proc[i + 1])\n",
    "    \n",
    "    return timing_data"
   ]
  },
  {
   "cell_type": "code",
   "execution_count": 184,
   "metadata": {
    "scrolled": true
   },
   "outputs": [],
   "source": [
    "funcs = [wcd, rwmd_implem_1, rwmd_implem_2, rwmd, model.wmdistance]\n",
    "data = np.array([time_func(i, len(strs_proc), 100) for i in funcs])"
   ]
  },
  {
   "cell_type": "code",
   "execution_count": 185,
   "metadata": {},
   "outputs": [],
   "source": [
    "data_no_cache = np.array([time_func(i, len(strs_proc), 100) for i in funcs[:-1]])"
   ]
  },
  {
   "cell_type": "code",
   "execution_count": 193,
   "metadata": {},
   "outputs": [
    {
     "data": {
      "image/png": "[encoded data removed]",
      "text/plain": [
       "<Figure size 432x288 with 1 Axes>"
      ]
     },
     "metadata": {
      "needs_background": "light"
     },
     "output_type": "display_data"
    }
   ],
   "source": [
    "x = data[0, :, 1]\n",
    "fn_names = [\"wcd\", \"rwmd_implem_1\", \"rwmd_implem_2\", \"rwmd\", \"model.wmdistance\"]\n",
    "\n",
    "x_args = np.argsort(x)\n",
    "\n",
    "fig, ax = plt.subplots()\n",
    "for i in range(data.shape[0]):\n",
    "    ax.plot(x[x_args], data[i, x_args, 0] / 100, 'k', color=np.around(np.random.rand(3, 1), 1).flatten(), label=str(fn_names[i]+ ('' if i == len(fn_names) - 1 else '_cached')))\n",
    "for i in range(data_no_cache.shape[0]):\n",
    "    ax.plot(x[x_args], data_no_cache[i, x_args, 0] / 100, 'k', color=np.around(np.random.rand(3, 1), 1).flatten(), label=fn_names[i])\n",
    "\n",
    "ax.legend()\n",
    "\n",
    "ax.set_xlabel('Document size (in words)')\n",
    "ax.set_ylabel('Time (s)')\n",
    "ax.set_title('Average computation time given document sizes')\n",
    "plt.show()"
   ]
  },
  {
   "cell_type": "code",
   "execution_count": 204,
   "metadata": {},
   "outputs": [
    {
     "data": {
      "image/png": "[encoded data removed]",
      "text/plain": [
       "<Figure size 432x288 with 1 Axes>"
      ]
     },
     "metadata": {
      "needs_background": "light"
     },
     "output_type": "display_data"
    }
   ],
   "source": [
    "x = data[0, :, 1]\n",
    "fn_names = [\"wcd\", \"rwmd_implem_1\", \"rwmd_implem_2\", \"rwmd\", \"model.wmdistance\"]\n",
    "\n",
    "x_args = np.argsort(x)\n",
    "\n",
    "fig, ax = plt.subplots()\n",
    "i = data.shape[0] - 1\n",
    "ax.plot(x[x_args], data[i, x_args, 0] / 100, 'k', color=np.around(np.random.rand(3, 1), 1).flatten(), label=fn_names[i])\n",
    "\n",
    "for i in range(data_no_cache.shape[0]):\n",
    "    ax.plot(x[x_args], data_no_cache[i, x_args, 0] / 100, 'k', color=np.around(np.random.rand(3, 1), 1).flatten(), label=fn_names[i])\n",
    "\n",
    "ax.legend()\n",
    "\n",
    "ax.set_xlabel('Document size (in words)')\n",
    "ax.set_ylabel('Time (s)')\n",
    "ax.set_title('Average computation time given document sizes')\n",
    "plt.show()"
   ]
  },
  {
   "cell_type": "code",
   "execution_count": 207,
   "metadata": {},
   "outputs": [
    {
     "data": {
      "image/png": "[encoded data removed]",
      "text/plain": [
       "<Figure size 432x288 with 1 Axes>"
      ]
     },
     "metadata": {
      "needs_background": "light"
     },
     "output_type": "display_data"
    }
   ],
   "source": [
    "x = data[0, :, 1]\n",
    "fn_names = [\"wcd\", \"rwmd_implem_1\", \"rwmd_implem_2\", \"rwmd\", \"model.wmdistance\"]\n",
    "\n",
    "x_args = np.argsort(x)\n",
    "\n",
    "fig, ax = plt.subplots()\n",
    "for i in range(data.shape[0]):\n",
    "    ax.plot(x[x_args], data[i, x_args, 0] / 100, 'k', color=np.around(np.random.rand(3, 1), 1).flatten(), label=fn_names[i] + ('' if i == len(fn_names) - 1 else '_cached'))\n",
    "\n",
    "ax.legend()\n",
    "\n",
    "ax.set_xlabel('Document size (in words)')\n",
    "ax.set_ylabel('Time (s)')\n",
    "ax.set_title('Average computation time given document sizes')\n",
    "plt.show()"
   ]
  },
  {
   "cell_type": "markdown",
   "metadata": {},
   "source": [
    "## Multiple documents"
   ]
  },
  {
   "cell_type": "code",
   "execution_count": 43,
   "metadata": {},
   "outputs": [],
   "source": [
    "def wmd_prefetch_prune_test(k, m):\n",
    "    return [wmd_prefetch_prune(idx, [i for i in range(len(strs_proc))], k, m) for idx in range(len(strs_proc))]"
   ]
  },
  {
   "cell_type": "code",
   "execution_count": 44,
   "metadata": {},
   "outputs": [],
   "source": [
    "def wmdistance_test():\n",
    "    a = np.array([i for i in range(len(strs_proc))])\n",
    "    wmd_k_first = [[model.wmdistance(strs_proc[idx], strs_proc[j]) for j in a] for idx in range(len(strs_proc))]\n",
    "    return a[np.argsort(wmd_k_first)][:, :7]"
   ]
  },
  {
   "cell_type": "code",
   "execution_count": 45,
   "metadata": {},
   "outputs": [],
   "source": [
    "timeit.template = \"\"\"\n",
    "def inner(_it, _timer{init}):\n",
    "    {setup}\n",
    "    _t0 = _timer()\n",
    "    for _i in _it:\n",
    "        retval = {stmt}\n",
    "    _t1 = _timer()\n",
    "    return _t1 - _t0, retval\n",
    "\"\"\""
   ]
  },
  {
   "cell_type": "code",
   "execution_count": 46,
   "metadata": {},
   "outputs": [],
   "source": [
    "def calc_wmd_score(wmd_nn, wmd_k_first): \n",
    "    acc_score = 0\n",
    "    for d1, d2 in zip(wmd_nn, wmd_k_first):\n",
    "        d1 = np.array(d1)\n",
    "        index = np.in1d(d2, d1)\n",
    "        score = np.sum(index == True) / len(d1)\n",
    "        acc_score += score\n",
    "    return acc_score / len(wmd_nn)"
   ]
  },
  {
   "cell_type": "code",
   "execution_count": 49,
   "metadata": {},
   "outputs": [],
   "source": [
    "def time_func_mul_docs(k_max=3, m_max=3, nb_iter=10):\n",
    "    timing_data = np.zeros((k_max, m_max, 2, 3))\n",
    "    ret1 = []\n",
    "    for k in range(k_max):\n",
    "        for m in range(1, m_max):\n",
    "            for i in range(2):\n",
    "                if i == 1:\n",
    "                    def f():\n",
    "                        a = np.array([i for i in range(len(strs_proc))])\n",
    "                        wmd_k_first = [[model.wmdistance(strs_proc[idx], strs_proc[j]) for j in a] for idx in range(len(strs_proc))]\n",
    "                        return a[np.argsort(wmd_k_first)][:, :m]\n",
    "                else:\n",
    "                    def f():\n",
    "                        return [wmd_prefetch_prune(idx, [i for i in range(len(strs_proc))], k, m) for idx in range(len(strs_proc))]\n",
    "                \n",
    "                #timing_data[i][0] = timeit.timeit(f, number=nb_iter)\n",
    "                print(k, m, i, timing_data.shape)\n",
    "                timing_data[k, m, i, 0], ret = timeit.Timer(f, 'gc.enable()').timeit(number=nb_iter)\n",
    "                if i == 0:\n",
    "                    ret1 = ret\n",
    "                else:\n",
    "                    timing_data[k, m, i, 2] = calc_wmd_score(ret, ret1)\n",
    "                    print(\"score:\", timing_data[k, m, i, 2])\n",
    "                timing_data[k, m, i, 1] = len(strs_proc[i]) + len(strs_proc[i + 1])\n",
    "    \n",
    "    return timing_data"
   ]
  },
  {
   "cell_type": "code",
   "execution_count": 50,
   "metadata": {
    "scrolled": true
   },
   "outputs": [
    {
     "name": "stdout",
     "output_type": "stream",
     "text": [
      "0 1 0 (10, 10, 2, 3)\n",
      "0 1 1 (10, 10, 2, 3)\n",
      "score: 1.0\n",
      "0 2 0 (10, 10, 2, 3)\n",
      "0 2 1 (10, 10, 2, 3)\n",
      "score: 0.8181818181818182\n",
      "0 3 0 (10, 10, 2, 3)\n",
      "0 3 1 (10, 10, 2, 3)\n",
      "score: 0.7878787878787876\n",
      "0 4 0 (10, 10, 2, 3)\n",
      "0 4 1 (10, 10, 2, 3)\n",
      "score: 0.6931818181818182\n",
      "0 5 0 (10, 10, 2, 3)\n",
      "0 5 1 (10, 10, 2, 3)\n",
      "score: 0.7000000000000001\n",
      "0 6 0 (10, 10, 2, 3)\n",
      "0 6 1 (10, 10, 2, 3)\n",
      "score: 0.7045454545454546\n",
      "0 7 0 (10, 10, 2, 3)\n",
      "0 7 1 (10, 10, 2, 3)\n",
      "score: 0.7207792207792207\n",
      "0 8 0 (10, 10, 2, 3)\n",
      "0 8 1 (10, 10, 2, 3)\n",
      "score: 0.7329545454545454\n",
      "0 9 0 (10, 10, 2, 3)\n",
      "0 9 1 (10, 10, 2, 3)\n",
      "score: 0.7777777777777779\n",
      "1 1 0 (10, 10, 2, 3)\n",
      "1 1 1 (10, 10, 2, 3)\n",
      "score: 1.0\n",
      "1 2 0 (10, 10, 2, 3)\n",
      "1 2 1 (10, 10, 2, 3)\n",
      "score: 0.8181818181818182\n",
      "1 3 0 (10, 10, 2, 3)\n",
      "1 3 1 (10, 10, 2, 3)\n",
      "score: 0.7878787878787876\n",
      "1 4 0 (10, 10, 2, 3)\n",
      "1 4 1 (10, 10, 2, 3)\n",
      "score: 0.6931818181818182\n",
      "1 5 0 (10, 10, 2, 3)\n",
      "1 5 1 (10, 10, 2, 3)\n",
      "score: 0.7000000000000001\n",
      "1 6 0 (10, 10, 2, 3)\n",
      "1 6 1 (10, 10, 2, 3)\n",
      "score: 0.7045454545454546\n",
      "1 7 0 (10, 10, 2, 3)\n",
      "1 7 1 (10, 10, 2, 3)\n",
      "score: 0.7207792207792207\n",
      "1 8 0 (10, 10, 2, 3)\n",
      "1 8 1 (10, 10, 2, 3)\n",
      "score: 0.7329545454545454\n",
      "1 9 0 (10, 10, 2, 3)\n",
      "1 9 1 (10, 10, 2, 3)\n",
      "score: 0.7777777777777779\n",
      "2 1 0 (10, 10, 2, 3)\n",
      "2 1 1 (10, 10, 2, 3)\n",
      "score: 1.0\n",
      "2 2 0 (10, 10, 2, 3)\n",
      "2 2 1 (10, 10, 2, 3)\n",
      "score: 0.8181818181818182\n",
      "2 3 0 (10, 10, 2, 3)\n",
      "2 3 1 (10, 10, 2, 3)\n",
      "score: 0.7878787878787876\n",
      "2 4 0 (10, 10, 2, 3)\n",
      "2 4 1 (10, 10, 2, 3)\n",
      "score: 0.6931818181818182\n",
      "2 5 0 (10, 10, 2, 3)\n",
      "2 5 1 (10, 10, 2, 3)\n",
      "score: 0.7000000000000001\n",
      "2 6 0 (10, 10, 2, 3)\n",
      "2 6 1 (10, 10, 2, 3)\n",
      "score: 0.7045454545454546\n",
      "2 7 0 (10, 10, 2, 3)\n",
      "2 7 1 (10, 10, 2, 3)\n",
      "score: 0.7207792207792207\n",
      "2 8 0 (10, 10, 2, 3)\n",
      "2 8 1 (10, 10, 2, 3)\n",
      "score: 0.7329545454545454\n",
      "2 9 0 (10, 10, 2, 3)\n",
      "2 9 1 (10, 10, 2, 3)\n",
      "score: 0.7777777777777779\n",
      "3 1 0 (10, 10, 2, 3)\n",
      "3 1 1 (10, 10, 2, 3)\n",
      "score: 1.0\n",
      "3 2 0 (10, 10, 2, 3)\n",
      "3 2 1 (10, 10, 2, 3)\n",
      "score: 0.8409090909090909\n",
      "3 3 0 (10, 10, 2, 3)\n",
      "3 3 1 (10, 10, 2, 3)\n",
      "score: 0.7878787878787876\n",
      "3 4 0 (10, 10, 2, 3)\n",
      "3 4 1 (10, 10, 2, 3)\n",
      "score: 0.6931818181818182\n",
      "3 5 0 (10, 10, 2, 3)\n",
      "3 5 1 (10, 10, 2, 3)\n",
      "score: 0.7000000000000001\n",
      "3 6 0 (10, 10, 2, 3)\n",
      "3 6 1 (10, 10, 2, 3)\n",
      "score: 0.7045454545454546\n",
      "3 7 0 (10, 10, 2, 3)\n",
      "3 7 1 (10, 10, 2, 3)\n",
      "score: 0.7207792207792207\n",
      "3 8 0 (10, 10, 2, 3)\n",
      "3 8 1 (10, 10, 2, 3)\n",
      "score: 0.7329545454545454\n",
      "3 9 0 (10, 10, 2, 3)\n",
      "3 9 1 (10, 10, 2, 3)\n",
      "score: 0.7777777777777779\n",
      "4 1 0 (10, 10, 2, 3)\n",
      "4 1 1 (10, 10, 2, 3)\n",
      "score: 1.0\n",
      "4 2 0 (10, 10, 2, 3)\n",
      "4 2 1 (10, 10, 2, 3)\n",
      "score: 0.8863636363636364\n",
      "4 3 0 (10, 10, 2, 3)\n",
      "4 3 1 (10, 10, 2, 3)\n",
      "score: 0.8333333333333333\n",
      "4 4 0 (10, 10, 2, 3)\n",
      "4 4 1 (10, 10, 2, 3)\n",
      "score: 0.6931818181818182\n",
      "4 5 0 (10, 10, 2, 3)\n",
      "4 5 1 (10, 10, 2, 3)\n",
      "score: 0.7000000000000001\n",
      "4 6 0 (10, 10, 2, 3)\n",
      "4 6 1 (10, 10, 2, 3)\n",
      "score: 0.7045454545454546\n",
      "4 7 0 (10, 10, 2, 3)\n",
      "4 7 1 (10, 10, 2, 3)\n",
      "score: 0.7207792207792207\n",
      "4 8 0 (10, 10, 2, 3)\n",
      "4 8 1 (10, 10, 2, 3)\n",
      "score: 0.7329545454545454\n",
      "4 9 0 (10, 10, 2, 3)\n",
      "4 9 1 (10, 10, 2, 3)\n",
      "score: 0.7777777777777779\n",
      "5 1 0 (10, 10, 2, 3)\n",
      "5 1 1 (10, 10, 2, 3)\n",
      "score: 1.0\n",
      "5 2 0 (10, 10, 2, 3)\n",
      "5 2 1 (10, 10, 2, 3)\n",
      "score: 0.8863636363636364\n",
      "5 3 0 (10, 10, 2, 3)\n",
      "5 3 1 (10, 10, 2, 3)\n",
      "score: 0.8333333333333333\n",
      "5 4 0 (10, 10, 2, 3)\n",
      "5 4 1 (10, 10, 2, 3)\n",
      "score: 0.6931818181818182\n",
      "5 5 0 (10, 10, 2, 3)\n",
      "5 5 1 (10, 10, 2, 3)\n",
      "score: 0.7000000000000001\n",
      "5 6 0 (10, 10, 2, 3)\n",
      "5 6 1 (10, 10, 2, 3)\n",
      "score: 0.7045454545454546\n",
      "5 7 0 (10, 10, 2, 3)\n",
      "5 7 1 (10, 10, 2, 3)\n",
      "score: 0.7207792207792207\n",
      "5 8 0 (10, 10, 2, 3)\n",
      "5 8 1 (10, 10, 2, 3)\n",
      "score: 0.7329545454545454\n",
      "5 9 0 (10, 10, 2, 3)\n",
      "5 9 1 (10, 10, 2, 3)\n",
      "score: 0.7777777777777779\n",
      "6 1 0 (10, 10, 2, 3)\n",
      "6 1 1 (10, 10, 2, 3)\n",
      "score: 1.0\n",
      "6 2 0 (10, 10, 2, 3)\n",
      "6 2 1 (10, 10, 2, 3)\n",
      "score: 0.8863636363636364\n",
      "6 3 0 (10, 10, 2, 3)\n",
      "6 3 1 (10, 10, 2, 3)\n",
      "score: 0.8333333333333333\n",
      "6 4 0 (10, 10, 2, 3)\n",
      "6 4 1 (10, 10, 2, 3)\n",
      "score: 0.7045454545454546\n",
      "6 5 0 (10, 10, 2, 3)\n",
      "6 5 1 (10, 10, 2, 3)\n",
      "score: 0.7090909090909091\n",
      "6 6 0 (10, 10, 2, 3)\n",
      "6 6 1 (10, 10, 2, 3)\n",
      "score: 0.7045454545454546\n",
      "6 7 0 (10, 10, 2, 3)\n",
      "6 7 1 (10, 10, 2, 3)\n",
      "score: 0.7207792207792207\n",
      "6 8 0 (10, 10, 2, 3)\n",
      "6 8 1 (10, 10, 2, 3)\n",
      "score: 0.7329545454545454\n",
      "6 9 0 (10, 10, 2, 3)\n",
      "6 9 1 (10, 10, 2, 3)\n",
      "score: 0.7777777777777779\n",
      "7 1 0 (10, 10, 2, 3)\n",
      "7 1 1 (10, 10, 2, 3)\n",
      "score: 1.0\n",
      "7 2 0 (10, 10, 2, 3)\n",
      "7 2 1 (10, 10, 2, 3)\n",
      "score: 0.8863636363636364\n",
      "7 3 0 (10, 10, 2, 3)\n",
      "7 3 1 (10, 10, 2, 3)\n",
      "score: 0.8333333333333333\n",
      "7 4 0 (10, 10, 2, 3)\n",
      "7 4 1 (10, 10, 2, 3)\n",
      "score: 0.7159090909090909\n",
      "7 5 0 (10, 10, 2, 3)\n",
      "7 5 1 (10, 10, 2, 3)\n",
      "score: 0.7181818181818183\n",
      "7 6 0 (10, 10, 2, 3)\n",
      "7 6 1 (10, 10, 2, 3)\n",
      "score: 0.7121212121212122\n",
      "7 7 0 (10, 10, 2, 3)\n",
      "7 7 1 (10, 10, 2, 3)\n",
      "score: 0.7207792207792207\n",
      "7 8 0 (10, 10, 2, 3)\n",
      "7 8 1 (10, 10, 2, 3)\n",
      "score: 0.7329545454545454\n",
      "7 9 0 (10, 10, 2, 3)\n",
      "7 9 1 (10, 10, 2, 3)\n",
      "score: 0.7777777777777779\n",
      "8 1 0 (10, 10, 2, 3)\n",
      "8 1 1 (10, 10, 2, 3)\n",
      "score: 1.0\n",
      "8 2 0 (10, 10, 2, 3)\n",
      "8 2 1 (10, 10, 2, 3)\n",
      "score: 0.8863636363636364\n",
      "8 3 0 (10, 10, 2, 3)\n",
      "8 3 1 (10, 10, 2, 3)\n",
      "score: 0.8333333333333333\n",
      "8 4 0 (10, 10, 2, 3)\n",
      "8 4 1 (10, 10, 2, 3)\n",
      "score: 0.7272727272727273\n",
      "8 5 0 (10, 10, 2, 3)\n",
      "8 5 1 (10, 10, 2, 3)\n",
      "score: 0.7272727272727273\n",
      "8 6 0 (10, 10, 2, 3)\n",
      "8 6 1 (10, 10, 2, 3)\n",
      "score: 0.7272727272727274\n",
      "8 7 0 (10, 10, 2, 3)\n",
      "8 7 1 (10, 10, 2, 3)\n",
      "score: 0.7337662337662337\n",
      "8 8 0 (10, 10, 2, 3)\n",
      "8 8 1 (10, 10, 2, 3)\n",
      "score: 0.7329545454545454\n",
      "8 9 0 (10, 10, 2, 3)\n",
      "8 9 1 (10, 10, 2, 3)\n",
      "score: 0.7777777777777779\n",
      "9 1 0 (10, 10, 2, 3)\n",
      "9 1 1 (10, 10, 2, 3)\n",
      "score: 1.0\n",
      "9 2 0 (10, 10, 2, 3)\n",
      "9 2 1 (10, 10, 2, 3)\n",
      "score: 0.9318181818181818\n",
      "9 3 0 (10, 10, 2, 3)\n",
      "9 3 1 (10, 10, 2, 3)\n",
      "score: 0.8636363636363636\n",
      "9 4 0 (10, 10, 2, 3)\n",
      "9 4 1 (10, 10, 2, 3)\n",
      "score: 0.75\n",
      "9 5 0 (10, 10, 2, 3)\n",
      "9 5 1 (10, 10, 2, 3)\n",
      "score: 0.7454545454545454\n",
      "9 6 0 (10, 10, 2, 3)\n",
      "9 6 1 (10, 10, 2, 3)\n",
      "score: 0.7424242424242425\n",
      "9 7 0 (10, 10, 2, 3)\n",
      "9 7 1 (10, 10, 2, 3)\n",
      "score: 0.7467532467532467\n",
      "9 8 0 (10, 10, 2, 3)\n",
      "9 8 1 (10, 10, 2, 3)\n",
      "score: 0.7443181818181818\n",
      "9 9 0 (10, 10, 2, 3)\n",
      "9 9 1 (10, 10, 2, 3)\n",
      "score: 0.7777777777777779\n"
     ]
    }
   ],
   "source": [
    "data = time_func_mul_docs(10, 10, 10)"
   ]
  },
  {
   "cell_type": "code",
   "execution_count": 152,
   "metadata": {},
   "outputs": [
    {
     "name": "stdout",
     "output_type": "stream",
     "text": [
      "[1.         0.81818182 0.78787879 0.69318182 0.7        0.70454545\n",
      " 0.72077922 0.73295455 0.77777778]\n"
     ]
    },
    {
     "data": {
      "image/png": "[encoded data removed]",
      "text/plain": [
       "<Figure size 432x288 with 1 Axes>"
      ]
     },
     "metadata": {
      "needs_background": "light"
     },
     "output_type": "display_data"
    }
   ],
   "source": [
    "error_config = {'ecolor': '0.3'}\n",
    "fig, ax = plt.subplots()\n",
    "\n",
    "for i in range(data.shape[0]):\n",
    "    ax.bar(np.arange(data.shape[0]) + 0.05*i, data[i, :, 1, 2], 0.1,\n",
    "                alpha=0.4, color=np.around(np.random.rand(3, 1), 1).flatten(),\n",
    "                 error_kw=error_config,\n",
    "                label='k=' + str(i))\n",
    "\n",
    "ax.legend()\n",
    "\n",
    "ax.set_xlabel('m')\n",
    "ax.set_ylabel('Scores')\n",
    "ax.set_title('Average Accuracy of WMD with Prefetch and Prune given k and m')\n",
    "\n",
    "fig.tight_layout()\n",
    "plt.show()"
   ]
  },
  {
   "cell_type": "code",
   "execution_count": 130,
   "metadata": {},
   "outputs": [
    {
     "data": {
      "image/png": "[encoded data removed]",
      "text/plain": [
       "<Figure size 432x288 with 1 Axes>"
      ]
     },
     "metadata": {
      "needs_background": "light"
     },
     "output_type": "display_data"
    }
   ],
   "source": [
    "error_config = {'ecolor': '0.3'}\n",
    "fig, ax = plt.subplots()\n",
    "\n",
    "for i in range(data.shape[0]):\n",
    "    ax.bar(np.arange(data.shape[0]) + 0.1*i, data[i, :, 0, 0] / 100, 0.1,\n",
    "                alpha=0.4, color=np.around(np.random.rand(3, 1), 1).flatten(),\n",
    "                 error_kw=error_config,\n",
    "                label='k=' + str(i))\n",
    "\n",
    "ax.bar(np.arange(data.shape[0]) + 0.1*i, data[i, :, 1, 0] / 100, 0.1,\n",
    "                alpha=1.0, color='g',\n",
    "                 error_kw=error_config,\n",
    "                label='wmd')\n",
    "\n",
    "ax.legend()\n",
    "\n",
    "ax.set_xlabel('m')\n",
    "ax.set_ylabel('Time (s)')\n",
    "ax.set_title('Average computation time of WMD with Prefetch and Prune given k and m')\n",
    "\n",
    "fig.tight_layout()\n",
    "plt.show()"
   ]
  },
  {
   "cell_type": "code",
   "execution_count": null,
   "metadata": {},
   "outputs": [],
   "source": []
  }
 ],
 "metadata": {
  "kernelspec": {
   "display_name": "Python 3",
   "language": "python",
   "name": "python3"
  }
 },
 "nbformat": 4,
 "nbformat_minor": 2
}
